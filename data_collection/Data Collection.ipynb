{
 "cells": [
  {
   "cell_type": "markdown",
   "id": "0aacbcd7",
   "metadata": {},
   "source": [
    "# 0 - create data of all signs only one video for each sign\n",
    "\n",
    "the purpose of the next code is to get one video for n signs and move them to one_video directory so all these videos used for training "
   ]
  },
  {
   "cell_type": "code",
   "execution_count": 54,
   "id": "0d890aef",
   "metadata": {},
   "outputs": [],
   "source": [
    "import shutil\n",
    "import numpy as np\n",
    "import os\n",
    "import mediapipe as mp\n",
    "import cv2 \n",
    "import time\n",
    "import pandas as pd"
   ]
  },
  {
   "cell_type": "code",
   "execution_count": 63,
   "id": "2952fc39",
   "metadata": {},
   "outputs": [],
   "source": [
    "data_path = \"../data\"\n",
    "video_path = os.path.join(data_path,\"train\")\n",
    "\n",
    "one_video_path = os.path.join(data_path,\"one_video\")\n",
    "\n",
    "train_labels = pd.read_csv(\"../data/train_labels.csv\",names=['sample','id'])\n",
    "class_id = pd.read_csv(\"../data/class_id.csv\")\n",
    "\n",
    "n_signs = 226\n",
    "actions = list(class_id['EN'].iloc[:n_signs])\n",
    "\n",
    "\n",
    "\n"
   ]
  },
  {
   "cell_type": "code",
   "execution_count": 64,
   "id": "d28e2903",
   "metadata": {},
   "outputs": [],
   "source": [
    "def check_file(file_path):\n",
    "    try:\n",
    "        f = open(file_path)\n",
    "        f.close()\n",
    "        return True\n",
    "    except IOError:\n",
    "        return False\n",
    "    \n",
    "    \n",
    "\n",
    "def construct_path(file):\n",
    "    return os.path.join(video_path,file+\"_color.mp4\")\n",
    "    \n",
    "    \n",
    "def get_data(id):\n",
    "    data =  train_labels[train_labels['id']==id]\n",
    "    lis =  [construct_path(i) for i in  (data['sample'])]\n",
    "    data =  [i for i in lis if check_file(i)]\n",
    "    return data,[id for i in data]\n",
    "    \n",
    "    \n",
    "    \n"
   ]
  },
  {
   "cell_type": "code",
   "execution_count": 69,
   "id": "e38ef034",
   "metadata": {},
   "outputs": [],
   "source": [
    "pathes = []\n",
    "for id in range(n_signs):\n",
    "    path = get_data(id)[0][0]\n",
    "    pathes.append(path)"
   ]
  },
  {
   "cell_type": "code",
   "execution_count": 75,
   "id": "e2d20cd2",
   "metadata": {},
   "outputs": [
    {
     "name": "stdout",
     "output_type": "stream",
     "text": [
      "directory exists\n",
      "files copied\n"
     ]
    }
   ],
   "source": [
    "try :\n",
    "    os.mkdir(one_video_path)\n",
    "    print(\"created successfully\")\n",
    "except :\n",
    "    print(\"directory exists\")\n",
    "\n",
    "for i,path in enumerate(pathes):\n",
    "    shutil.copy(path,os.path.join(one_video_path,f\"sign_{i}_{actions[i]}.mp4\"))\n",
    "print(\"files copied\")"
   ]
  },
  {
   "cell_type": "code",
   "execution_count": 72,
   "id": "a4709be9",
   "metadata": {
    "scrolled": true
   },
   "outputs": [
    {
     "data": {
      "text/plain": [
       "226"
      ]
     },
     "execution_count": 72,
     "metadata": {},
     "output_type": "execute_result"
    }
   ],
   "source": [
    "len(actions)"
   ]
  },
  {
   "cell_type": "code",
   "execution_count": null,
   "id": "9917db93",
   "metadata": {},
   "outputs": [],
   "source": []
  },
  {
   "cell_type": "markdown",
   "id": "26c78db5",
   "metadata": {},
   "source": [
    "# "
   ]
  },
  {
   "cell_type": "markdown",
   "id": "a986fa95",
   "metadata": {},
   "source": [
    "# collect data words "
   ]
  },
  {
   "cell_type": "code",
   "execution_count": 1,
   "id": "d308e3b3",
   "metadata": {},
   "outputs": [],
   "source": [
    "import numpy as np\n",
    "import os\n",
    "import mediapipe as mp\n",
    "import cv2\n",
    "import time\n",
    "import shutil"
   ]
  },
  {
   "cell_type": "code",
   "execution_count": 27,
   "id": "08c6ec63",
   "metadata": {},
   "outputs": [],
   "source": [
    "# Path for exported data, numpy arrays\n",
    "DATA_PATH = os.path.join('data') \n",
    "\n",
    "# Actions that we try to detect\n",
    "actions = ['one_2','you_2']\n",
    "# number of videos\n",
    "n_videos = 40\n",
    "\n",
    "# number of seconds\n",
    "video_length = 2.2\n",
    "\n",
    "frames_per_seconds=25\n",
    "\n",
    "video_frames = int(video_length*frames_per_seconds)\n",
    "\n",
    "frame_time = 1000//frames_per_seconds\n"
   ]
  },
  {
   "cell_type": "code",
   "execution_count": 29,
   "id": "6903e24c",
   "metadata": {},
   "outputs": [],
   "source": [
    "for action in actions: \n",
    "    try: \n",
    "        os.makedirs(os.path.join(DATA_PATH, action))\n",
    "    except:\n",
    "        pass"
   ]
  },
  {
   "cell_type": "code",
   "execution_count": 19,
   "id": "29ebfb23",
   "metadata": {},
   "outputs": [],
   "source": [
    "def write_text(image,text,position,size='l'):\n",
    "    COLOR = (0,0,0)\n",
    "    if size=='l':\n",
    "        cv2.putText(image, text, position, \n",
    "                           cv2.FONT_HERSHEY_SIMPLEX, 1, COLOR, 4, cv2.LINE_AA)\n",
    "    elif size=='s':\n",
    "        cv2.putText(image, text, position, \n",
    "                           cv2.FONT_HERSHEY_SIMPLEX, 0.5, COLOR, 1, cv2.LINE_AA)"
   ]
  },
  {
   "cell_type": "code",
   "execution_count": 33,
   "id": "674e0eee",
   "metadata": {},
   "outputs": [],
   "source": [
    "cap = cv2.VideoCapture(0)\n",
    "continue_training=True\n",
    "for action in actions:\n",
    "    if not continue_training:\n",
    "        break\n",
    "    \n",
    "    \n",
    "    list_dir = os.listdir(f\"data/{action}\")\n",
    "    if(len(list_dir)>0):\n",
    "        start_video = len((list_dir))\n",
    "    else:\n",
    "        start_video=0\n",
    "    \n",
    "    ret, frame = cap.read()\n",
    "    write_text(frame,\"STARTING COLLECTING\",(120,200),'l')\n",
    "    write_text(frame,'Collecting frames for {}'.format(action),(15,12))\n",
    "    cv2.imshow('OpenCV Feed', frame)\n",
    "    if cv2.waitKey(0) & 0xFF == ord('s'):\n",
    "        pass\n",
    "                    \n",
    "    \n",
    "    for video in range(start_video,n_videos):\n",
    "        if not continue_training:\n",
    "            break\n",
    "        start_time=time.time()\n",
    "        #fourcc = VideoWriter_fourcc(*'MP4V')\n",
    "        out = cv2.VideoWriter(f'data/{action}/{video}.mp4',0x7634706d, frames_per_seconds, (640,480))\n",
    "        arr=[]\n",
    "        for frame_num in range(-1,video_frames):\n",
    "            \n",
    "\n",
    "            # NEW Apply wait logic\n",
    "            if frame_num == -1: \n",
    "                ret, frame = cap.read()\n",
    "                write_text(frame,\"STARTING COLLECTING\",(120,200),'l')\n",
    "                write_text(frame,'{} N {}'.format(action, video),(50,40))\n",
    "                write_text(frame,'time {}'.format(round(time.time()-start_time),2),(50,100))\n",
    "                cv2.imshow('OpenCV Feed', frame)\n",
    "                cv2.waitKey(800)\n",
    "                    \n",
    "            else: \n",
    "                ret, frame = cap.read()\n",
    "                out.write(frame)\n",
    "                write_text(frame,'{} N {}'.format(action, video),(50,40))\n",
    "                write_text(frame,'time {}'.format(round(time.time()-start_time),2),(50,100))\n",
    "                write_text(frame,'frame {}'.format(frame_num),(50,150))\n",
    "                cv2.imshow('OpenCV Feed', frame)\n",
    "                \n",
    "\n",
    "\n",
    "            # Break gracefully\n",
    "            if cv2.waitKey(frame_time) & 0xFF == ord('q'):\n",
    "                continue_training=False\n",
    "                break\n",
    "        \n",
    "        out.release()\n",
    "        \n",
    "\n",
    "\n",
    "cap.release()\n",
    "cv2.destroyAllWindows()"
   ]
  },
  {
   "cell_type": "code",
   "execution_count": 31,
   "id": "2ffb2616",
   "metadata": {},
   "outputs": [],
   "source": [
    "\n",
    "cap.release()\n",
    "cv2.destroyAllWindows()"
   ]
  },
  {
   "cell_type": "code",
   "execution_count": 32,
   "id": "03e12425",
   "metadata": {},
   "outputs": [],
   "source": [
    "cap.release()\n",
    "cv2.destroyAllWindows()"
   ]
  },
  {
   "cell_type": "markdown",
   "id": "9335b78e",
   "metadata": {},
   "source": [
    "# "
   ]
  },
  {
   "cell_type": "markdown",
   "id": "5ddeddd0",
   "metadata": {},
   "source": [
    "# collect data for letter A-Z"
   ]
  },
  {
   "cell_type": "code",
   "execution_count": 1,
   "id": "9fc8b872",
   "metadata": {},
   "outputs": [],
   "source": [
    "import numpy as np\n",
    "import os\n",
    "import mediapipe as mp\n",
    "import cv2 \n",
    "import time"
   ]
  },
  {
   "cell_type": "code",
   "execution_count": 2,
   "id": "77f5f176",
   "metadata": {},
   "outputs": [],
   "source": [
    "# Path for exported data, numpy arrays\n",
    "DATA_PATH = os.path.join('data_letters') \n",
    "\n",
    "# Actions that we try to detect\n",
    "actions = list('ABCDEFGHIJKLMNOPQRSTUVWXYZ')\n",
    "\n",
    "# fifty videos worth of data\n",
    "n_videos = 1\n",
    "\n",
    "# Videos are going to be 30 frames in length\n",
    "video_length = 2\n",
    "\n",
    "frames_per_seconds=25\n",
    "\n",
    "video_frames = video_length*frames_per_seconds\n",
    "\n",
    "frame_time = 1000//frames_per_seconds\n"
   ]
  },
  {
   "cell_type": "code",
   "execution_count": 3,
   "id": "ca439bb8",
   "metadata": {},
   "outputs": [],
   "source": [
    "try: \n",
    "    os.mkdir(DATA_PATH)\n",
    "except:\n",
    "    pass"
   ]
  },
  {
   "cell_type": "code",
   "execution_count": 4,
   "id": "4edc5655",
   "metadata": {},
   "outputs": [],
   "source": [
    "def write_text(image,text,position,size='s'):\n",
    "    if size=='l':\n",
    "        cv2.putText(image, text, position, \n",
    "                           cv2.FONT_HERSHEY_SIMPLEX, 1, (0,255, 0), 4, cv2.LINE_AA)\n",
    "    elif size=='s':\n",
    "        cv2.putText(image, text, position, \n",
    "                           cv2.FONT_HERSHEY_SIMPLEX, 0.5, (0, 0, 255), 1, cv2.LINE_AA)"
   ]
  },
  {
   "cell_type": "code",
   "execution_count": 30,
   "id": "f3fc1a9a",
   "metadata": {},
   "outputs": [],
   "source": [
    "cap = cv2.VideoCapture(0)\n",
    "continue_training=True\n",
    "for action in actions:\n",
    "    if not continue_training:\n",
    "        break\n",
    "    \n",
    "    ret, frame = cap.read()\n",
    "    write_text(frame,\"STARTING COLLECTING\",(120,200),'l')\n",
    "    write_text(frame,'Collecting frames for {}'.format(action),(15,12))\n",
    "    cv2.imshow('OpenCV Feed', frame)\n",
    "    if cv2.waitKey(0) & 0xFF == ord('s'):\n",
    "        pass\n",
    "\n",
    "\n",
    "    start_time=time.time()\n",
    "    #fourcc = VideoWriter_fourcc(*'MP4V')\n",
    "    out = cv2.VideoWriter(f'{DATA_PATH}/{action}.mp4',0x7634706d, frames_per_seconds, (640,480))\n",
    "\n",
    "    for frame_num in range(-1,video_frames):\n",
    "\n",
    "        # Read feed\n",
    "        ret, frame = cap.read()\n",
    "\n",
    "        # NEW Apply wait logic\n",
    "        if frame_num == -1: \n",
    "            write_text(frame,\"STARTING COLLECTING\",(120,200),'l')\n",
    "            write_text(frame,'Collecting frames for {}'.format(action),(15,12))\n",
    "            write_text(frame,'time {}'.format(round(time.time()-start_time),2),(15,40))\n",
    "            cv2.imshow('OpenCV Feed', frame)\n",
    "            cv2.waitKey(500)\n",
    "\n",
    "        else: \n",
    "            out.write(frame)\n",
    "            write_text(frame,'Collecting frames for {}'.format(action),(15,12))\n",
    "            write_text(frame,'time {}'.format(round(time.time()-start_time,2)),(15,40))\n",
    "            write_text(frame,'frame {}'.format(frame_num),(15,64))\n",
    "            cv2.imshow('OpenCV Feed', frame)\n",
    "\n",
    "\n",
    "\n",
    "        # Break gracefully\n",
    "        if cv2.waitKey(frame_time) & 0xFF == ord('q'):\n",
    "            continue_training=False\n",
    "            break\n",
    "\n",
    "    out.release()\n",
    "        \n",
    "        \n",
    "        \n",
    "        \n",
    "        \n",
    "                \n",
    "\n",
    "cap.release()\n",
    "cv2.destroyAllWindows()"
   ]
  },
  {
   "cell_type": "code",
   "execution_count": 6,
   "id": "415adfcb",
   "metadata": {},
   "outputs": [],
   "source": [
    "\n",
    "cap.release()\n",
    "cv2.destroyAllWindows()"
   ]
  },
  {
   "cell_type": "code",
   "execution_count": null,
   "id": "6f2d82b0",
   "metadata": {},
   "outputs": [],
   "source": []
  },
  {
   "cell_type": "code",
   "execution_count": null,
   "id": "6e3a909b",
   "metadata": {},
   "outputs": [],
   "source": []
  },
  {
   "cell_type": "code",
   "execution_count": null,
   "id": "91678af3",
   "metadata": {},
   "outputs": [],
   "source": []
  },
  {
   "cell_type": "code",
   "execution_count": null,
   "id": "d0e4d9e3",
   "metadata": {},
   "outputs": [],
   "source": []
  },
  {
   "cell_type": "code",
   "execution_count": null,
   "id": "ddc3d85b",
   "metadata": {},
   "outputs": [],
   "source": []
  },
  {
   "cell_type": "code",
   "execution_count": null,
   "id": "d9f7d076",
   "metadata": {},
   "outputs": [],
   "source": []
  },
  {
   "cell_type": "code",
   "execution_count": null,
   "id": "a460bd76",
   "metadata": {},
   "outputs": [],
   "source": []
  }
 ],
 "metadata": {
  "kernelspec": {
   "display_name": "Python 3 (ipykernel)",
   "language": "python",
   "name": "python3"
  },
  "language_info": {
   "codemirror_mode": {
    "name": "ipython",
    "version": 3
   },
   "file_extension": ".py",
   "mimetype": "text/x-python",
   "name": "python",
   "nbconvert_exporter": "python",
   "pygments_lexer": "ipython3",
   "version": "3.8.10"
  }
 },
 "nbformat": 4,
 "nbformat_minor": 5
}
