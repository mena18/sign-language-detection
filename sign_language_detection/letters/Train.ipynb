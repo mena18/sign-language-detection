{
 "cells": [
  {
   "cell_type": "markdown",
   "metadata": {
    "id": "hRDaeItWCU_g"
   },
   "source": [
    "# training on existing Data"
   ]
  },
  {
   "cell_type": "code",
   "execution_count": 7,
   "metadata": {
    "id": "37Mp0HP7BPza"
   },
   "outputs": [],
   "source": [
    "import numpy as np\n",
    "import cv2 \n",
    "import os\n",
    "import tensorflow as tf \n",
    "from tensorflow import keras\n",
    "import matplotlib.pyplot as plt\n",
    "import time\n",
    "import pandas as pd\n",
    "from sklearn.model_selection import train_test_split"
   ]
  },
  {
   "cell_type": "code",
   "execution_count": 3,
   "metadata": {
    "id": "blVDg26cCOVh"
   },
   "outputs": [],
   "source": [
    "labels_dic = {\n",
    "    \"aleff\": 0, #أ\n",
    "    \"bb\": 1,    #ب\n",
    "    \"taa\": 2,   #ت\n",
    "    \"thaa\": 3,  #ث\n",
    "    \"jeem\": 4,  #ج\n",
    "    \"haa\": 5,   #ح\n",
    "    \"khaa\": 6,  #خ\n",
    "    \"dal\": 7,   #د\n",
    "    \"thal\": 8,  #ذ\n",
    "    \"ra\": 9,    #ر\n",
    "    \"zay\": 10,  #ز\n",
    "    \"seen\": 11, #س\n",
    "    \"sheen\": 12,#ش\n",
    "    \"saad\": 13, #ص\n",
    "    \"dhad\": 14, #ض\n",
    "    \"ta\": 15,   #ط\n",
    "    \"dha\": 16,  #ظ\n",
    "    \"ain\": 17,  #ع\n",
    "    \"ghain\": 18,#غ\n",
    "    \"fa\": 19,   #ف\n",
    "    \"gaaf\": 20, #ق\n",
    "    \"kaaf\": 21, #ك\n",
    "    \"laam\": 22, #ل\n",
    "    \"meem\": 23, #م\n",
    "    \"nun\": 24,  #ن\n",
    "    \"ha\": 25,   #هـ\n",
    "    \"waw\": 26,  #و\n",
    "    \"ya\": 27,   #ئ\n",
    "    \"toot\": 28, #ة\n",
    "    \"al\": 29,   #ال\n",
    "    \"la\": 30,   #لا\n",
    "    \"yaa\": 31   #ي\n",
    "}\n",
    "\n",
    "data = np.load(os.path.join(\"keypoints\",\"data.npy\"))\n",
    "labels = np.load(os.path.join(\"keypoints\",\"labels.npy\"))\n",
    "\n",
    "perm = np.random.permutation(len(data))\n",
    "\n",
    "data = data[perm]\n",
    "labels = labels[perm]\n",
    "\n",
    "\n"
   ]
  },
  {
   "cell_type": "code",
   "execution_count": 10,
   "metadata": {
    "id": "l7Vf2vktC3uD"
   },
   "outputs": [],
   "source": [
    "X_train, X_test, y_train, y_test = train_test_split(data, labels, test_size=0.15, random_state=42)"
   ]
  },
  {
   "cell_type": "code",
   "execution_count": 9,
   "metadata": {
    "id": "B7uto9CtC__i"
   },
   "outputs": [],
   "source": [
    "from tensorflow.keras.models import Sequential\n",
    "from tensorflow.keras.layers import LSTM, Dense,Input,Dropout\n",
    "from tensorflow.keras.models import Model\n",
    "from tensorflow.keras.callbacks import TensorBoard,ModelCheckpoint,EarlyStopping\n",
    "\n",
    "# v1 ->95% training , 88% validation,84% test\n",
    "# v1 =  os.path.join(\"final_train_weights\",\"first_model_V1.h5\")\n",
    "best_model_file_name = os.path.join(\"weights\",\"V1.h5\")\n",
    "\n",
    "\n",
    "checkpoint = ModelCheckpoint(os.path.join(best_model_file_name), monitor='loss', verbose=0,\n",
    "    save_best_only=True, mode='auto', save_freq=1)\n",
    "earlyStopping = EarlyStopping(monitor='loss', patience=20)"
   ]
  },
  {
   "cell_type": "code",
   "execution_count": 16,
   "metadata": {
    "id": "DRiUwVxqDADk"
   },
   "outputs": [
    {
     "name": "stdout",
     "output_type": "stream",
     "text": [
      "Model: \"model\"\n",
      "_________________________________________________________________\n",
      " Layer (type)                Output Shape              Param #   \n",
      "=================================================================\n",
      " input_2 (InputLayer)        [(None, 42)]              0         \n",
      "                                                                 \n",
      " dense_1 (Dense)             (None, 128)               5504      \n",
      "                                                                 \n",
      " dense_2 (Dense)             (None, 256)               33024     \n",
      "                                                                 \n",
      " dense_3 (Dense)             (None, 128)               32896     \n",
      "                                                                 \n",
      " dense_4 (Dense)             (None, 32)                4128      \n",
      "                                                                 \n",
      "=================================================================\n",
      "Total params: 75,552\n",
      "Trainable params: 75,552\n",
      "Non-trainable params: 0\n",
      "_________________________________________________________________\n"
     ]
    },
    {
     "name": "stderr",
     "output_type": "stream",
     "text": [
      "2022-04-14 15:04:33.645069: I tensorflow/stream_executor/cuda/cuda_gpu_executor.cc:939] successful NUMA node read from SysFS had negative value (-1), but there must be at least one NUMA node, so returning NUMA node zero\n",
      "2022-04-14 15:04:33.645640: W tensorflow/stream_executor/platform/default/dso_loader.cc:64] Could not load dynamic library 'libcudart.so.11.0'; dlerror: libcudart.so.11.0: cannot open shared object file: No such file or directory; LD_LIBRARY_PATH: /home/mina/.local/lib/python3.8/site-packages/cv2/../../lib64:\n",
      "2022-04-14 15:04:33.645748: W tensorflow/stream_executor/platform/default/dso_loader.cc:64] Could not load dynamic library 'libcublas.so.11'; dlerror: libcublas.so.11: cannot open shared object file: No such file or directory; LD_LIBRARY_PATH: /home/mina/.local/lib/python3.8/site-packages/cv2/../../lib64:\n",
      "2022-04-14 15:04:33.645837: W tensorflow/stream_executor/platform/default/dso_loader.cc:64] Could not load dynamic library 'libcublasLt.so.11'; dlerror: libcublasLt.so.11: cannot open shared object file: No such file or directory; LD_LIBRARY_PATH: /home/mina/.local/lib/python3.8/site-packages/cv2/../../lib64:\n",
      "2022-04-14 15:04:33.645930: W tensorflow/stream_executor/platform/default/dso_loader.cc:64] Could not load dynamic library 'libcufft.so.10'; dlerror: libcufft.so.10: cannot open shared object file: No such file or directory; LD_LIBRARY_PATH: /home/mina/.local/lib/python3.8/site-packages/cv2/../../lib64:\n",
      "2022-04-14 15:04:33.646017: W tensorflow/stream_executor/platform/default/dso_loader.cc:64] Could not load dynamic library 'libcurand.so.10'; dlerror: libcurand.so.10: cannot open shared object file: No such file or directory; LD_LIBRARY_PATH: /home/mina/.local/lib/python3.8/site-packages/cv2/../../lib64:\n",
      "2022-04-14 15:04:33.646103: W tensorflow/stream_executor/platform/default/dso_loader.cc:64] Could not load dynamic library 'libcusolver.so.11'; dlerror: libcusolver.so.11: cannot open shared object file: No such file or directory; LD_LIBRARY_PATH: /home/mina/.local/lib/python3.8/site-packages/cv2/../../lib64:\n",
      "2022-04-14 15:04:33.646190: W tensorflow/stream_executor/platform/default/dso_loader.cc:64] Could not load dynamic library 'libcusparse.so.11'; dlerror: libcusparse.so.11: cannot open shared object file: No such file or directory; LD_LIBRARY_PATH: /home/mina/.local/lib/python3.8/site-packages/cv2/../../lib64:\n",
      "2022-04-14 15:04:33.646783: W tensorflow/core/common_runtime/gpu/gpu_device.cc:1850] Cannot dlopen some GPU libraries. Please make sure the missing libraries mentioned above are installed properly if you would like to use GPU. Follow the guide at https://www.tensorflow.org/install/gpu for how to download and setup the required libraries for your platform.\n",
      "Skipping registering GPU devices...\n",
      "2022-04-14 15:04:33.647152: I tensorflow/core/platform/cpu_feature_guard.cc:151] This TensorFlow binary is optimized with oneAPI Deep Neural Network Library (oneDNN) to use the following CPU instructions in performance-critical operations:  AVX2 FMA\n",
      "To enable them in other operations, rebuild TensorFlow with the appropriate compiler flags.\n"
     ]
    }
   ],
   "source": [
    "def first_model():\n",
    "    input_layer = Input(shape=(42,))\n",
    "    layer = Dense(128,activation=\"relu\")(input_layer)\n",
    "    layer = Dense(256,activation=\"relu\")(layer)\n",
    "    layer = Dense(128,activation=\"relu\")(layer)\n",
    "    layer = Dense(len(labels_dic),activation=\"softmax\")(layer)\n",
    "\n",
    "    model = Model(inputs=input_layer,outputs=layer)\n",
    "    model.compile(optimizer='Adam', loss='sparse_categorical_crossentropy', metrics=['accuracy'])\n",
    "    \n",
    "    return model\n",
    "\n",
    "model = first_model()\n",
    "model.summary()"
   ]
  },
  {
   "cell_type": "code",
   "execution_count": 17,
   "metadata": {
    "id": "USlhUnH3DAHb"
   },
   "outputs": [
    {
     "name": "stdout",
     "output_type": "stream",
     "text": [
      "Epoch 1/100\n",
      "816/816 [==============================] - 15s 18ms/step - loss: 1.9876 - accuracy: 0.3855 - val_loss: 0.8931 - val_accuracy: 0.7320\n",
      "Epoch 2/100\n",
      "816/816 [==============================] - 9s 11ms/step - loss: 0.6106 - accuracy: 0.8014 - val_loss: 0.4199 - val_accuracy: 0.8949\n",
      "Epoch 3/100\n",
      "816/816 [==============================] - 4s 4ms/step - loss: 0.3152 - accuracy: 0.9049 - val_loss: 0.2723 - val_accuracy: 0.9240\n",
      "Epoch 4/100\n",
      "816/816 [==============================] - 1s 866us/step - loss: 0.2283 - accuracy: 0.9289 - val_loss: 0.2627 - val_accuracy: 0.9240\n",
      "Epoch 5/100\n",
      "816/816 [==============================] - 1s 922us/step - loss: 0.1747 - accuracy: 0.9488 - val_loss: 0.2669 - val_accuracy: 0.9201\n",
      "Epoch 6/100\n",
      "816/816 [==============================] - 1s 860us/step - loss: 0.1688 - accuracy: 0.9509 - val_loss: 0.1564 - val_accuracy: 0.9631\n",
      "Epoch 7/100\n",
      "816/816 [==============================] - 1s 856us/step - loss: 0.1663 - accuracy: 0.9491 - val_loss: 0.1637 - val_accuracy: 0.9600\n",
      "Epoch 8/100\n",
      "816/816 [==============================] - 1s 873us/step - loss: 0.1298 - accuracy: 0.9611 - val_loss: 0.1508 - val_accuracy: 0.9696\n",
      "Epoch 9/100\n",
      "816/816 [==============================] - 1s 900us/step - loss: 0.1479 - accuracy: 0.9530 - val_loss: 0.1505 - val_accuracy: 0.9666\n",
      "Epoch 10/100\n",
      "816/816 [==============================] - 1s 868us/step - loss: 0.1317 - accuracy: 0.9597 - val_loss: 0.1257 - val_accuracy: 0.9774\n",
      "Epoch 11/100\n",
      "816/816 [==============================] - 1s 871us/step - loss: 0.1235 - accuracy: 0.9597 - val_loss: 0.1294 - val_accuracy: 0.9731\n",
      "Epoch 12/100\n",
      "816/816 [==============================] - 1s 855us/step - loss: 0.1150 - accuracy: 0.9638 - val_loss: 0.2236 - val_accuracy: 0.9414\n",
      "Epoch 13/100\n",
      "816/816 [==============================] - 1s 844us/step - loss: 0.1075 - accuracy: 0.9648 - val_loss: 0.1628 - val_accuracy: 0.9648\n",
      "Epoch 14/100\n",
      "816/816 [==============================] - 1s 839us/step - loss: 0.1113 - accuracy: 0.9653 - val_loss: 0.1650 - val_accuracy: 0.9609\n",
      "Epoch 15/100\n",
      "816/816 [==============================] - 1s 846us/step - loss: 0.0992 - accuracy: 0.9678 - val_loss: 0.1696 - val_accuracy: 0.9613\n",
      "Epoch 16/100\n",
      "816/816 [==============================] - 1s 844us/step - loss: 0.0989 - accuracy: 0.9688 - val_loss: 0.1395 - val_accuracy: 0.9731\n",
      "Epoch 17/100\n",
      "816/816 [==============================] - 1s 863us/step - loss: 0.0979 - accuracy: 0.9683 - val_loss: 0.3492 - val_accuracy: 0.9062\n",
      "Epoch 18/100\n",
      "816/816 [==============================] - 1s 846us/step - loss: 0.0994 - accuracy: 0.9678 - val_loss: 0.1010 - val_accuracy: 0.9848\n",
      "Epoch 19/100\n",
      "816/816 [==============================] - 1s 870us/step - loss: 0.0999 - accuracy: 0.9707 - val_loss: 0.1554 - val_accuracy: 0.9652\n",
      "Epoch 20/100\n",
      "816/816 [==============================] - 1s 870us/step - loss: 0.0720 - accuracy: 0.9784 - val_loss: 0.1049 - val_accuracy: 0.9826\n",
      "Epoch 21/100\n",
      "816/816 [==============================] - 1s 861us/step - loss: 0.0733 - accuracy: 0.9789 - val_loss: 0.1870 - val_accuracy: 0.9600\n",
      "Epoch 22/100\n",
      "816/816 [==============================] - 1s 848us/step - loss: 0.0839 - accuracy: 0.9744 - val_loss: 0.1924 - val_accuracy: 0.9509\n",
      "Epoch 23/100\n",
      "816/816 [==============================] - 1s 862us/step - loss: 0.0719 - accuracy: 0.9759 - val_loss: 0.2456 - val_accuracy: 0.9379\n",
      "Epoch 24/100\n",
      "816/816 [==============================] - 1s 866us/step - loss: 0.0698 - accuracy: 0.9784 - val_loss: 0.1044 - val_accuracy: 0.9857\n",
      "Epoch 25/100\n",
      "816/816 [==============================] - 1s 866us/step - loss: 0.0671 - accuracy: 0.9800 - val_loss: 0.0975 - val_accuracy: 0.9861\n",
      "Epoch 26/100\n",
      "816/816 [==============================] - 1s 856us/step - loss: 0.0754 - accuracy: 0.9750 - val_loss: 0.1302 - val_accuracy: 0.9731\n",
      "Epoch 27/100\n",
      "816/816 [==============================] - 1s 849us/step - loss: 0.0805 - accuracy: 0.9747 - val_loss: 0.1576 - val_accuracy: 0.9726\n",
      "Epoch 28/100\n",
      "816/816 [==============================] - 1s 859us/step - loss: 0.0695 - accuracy: 0.9772 - val_loss: 0.2066 - val_accuracy: 0.9505\n",
      "Epoch 29/100\n",
      "816/816 [==============================] - 1s 864us/step - loss: 0.0561 - accuracy: 0.9827 - val_loss: 0.1684 - val_accuracy: 0.9639\n",
      "Epoch 30/100\n",
      "816/816 [==============================] - 1s 868us/step - loss: 0.0657 - accuracy: 0.9799 - val_loss: 0.1044 - val_accuracy: 0.9805\n",
      "Epoch 31/100\n",
      "816/816 [==============================] - 1s 846us/step - loss: 0.0628 - accuracy: 0.9804 - val_loss: 0.0797 - val_accuracy: 0.9926\n",
      "Epoch 32/100\n",
      "816/816 [==============================] - 1s 849us/step - loss: 0.0593 - accuracy: 0.9818 - val_loss: 0.0972 - val_accuracy: 0.9878\n",
      "Epoch 33/100\n",
      "816/816 [==============================] - 1s 841us/step - loss: 0.0633 - accuracy: 0.9790 - val_loss: 0.1256 - val_accuracy: 0.9783\n",
      "Epoch 34/100\n",
      "816/816 [==============================] - 1s 849us/step - loss: 0.0577 - accuracy: 0.9812 - val_loss: 0.1224 - val_accuracy: 0.9739\n",
      "Epoch 35/100\n",
      "816/816 [==============================] - 1s 846us/step - loss: 0.0543 - accuracy: 0.9817 - val_loss: 0.1341 - val_accuracy: 0.9761\n",
      "Epoch 36/100\n",
      "816/816 [==============================] - 1s 844us/step - loss: 0.0607 - accuracy: 0.9818 - val_loss: 0.4583 - val_accuracy: 0.8758\n",
      "Epoch 37/100\n",
      "816/816 [==============================] - 1s 877us/step - loss: 0.0620 - accuracy: 0.9804 - val_loss: 0.2182 - val_accuracy: 0.9379\n",
      "Epoch 38/100\n",
      "816/816 [==============================] - 1s 865us/step - loss: 0.0410 - accuracy: 0.9885 - val_loss: 0.1179 - val_accuracy: 0.9861\n",
      "Epoch 39/100\n",
      "816/816 [==============================] - 1s 879us/step - loss: 0.0570 - accuracy: 0.9814 - val_loss: 0.1168 - val_accuracy: 0.9861\n",
      "Epoch 40/100\n",
      "816/816 [==============================] - 1s 850us/step - loss: 0.0621 - accuracy: 0.9792 - val_loss: 0.1083 - val_accuracy: 0.9852\n",
      "Epoch 41/100\n",
      "816/816 [==============================] - 1s 850us/step - loss: 0.0406 - accuracy: 0.9876 - val_loss: 0.1349 - val_accuracy: 0.9731\n",
      "Epoch 42/100\n",
      "816/816 [==============================] - 1s 860us/step - loss: 0.0552 - accuracy: 0.9830 - val_loss: 0.0971 - val_accuracy: 0.9887\n",
      "Epoch 43/100\n",
      "816/816 [==============================] - 1s 872us/step - loss: 0.0468 - accuracy: 0.9850 - val_loss: 0.1895 - val_accuracy: 0.9566\n",
      "Epoch 44/100\n",
      "816/816 [==============================] - 1s 876us/step - loss: 0.0512 - accuracy: 0.9845 - val_loss: 0.0951 - val_accuracy: 0.9922\n",
      "Epoch 45/100\n",
      "816/816 [==============================] - 1s 877us/step - loss: 0.0435 - accuracy: 0.9852 - val_loss: 0.0956 - val_accuracy: 0.9917\n",
      "Epoch 46/100\n",
      "816/816 [==============================] - 1s 854us/step - loss: 0.0520 - accuracy: 0.9833 - val_loss: 0.1021 - val_accuracy: 0.9909\n",
      "Epoch 47/100\n",
      "816/816 [==============================] - 1s 883us/step - loss: 0.0418 - accuracy: 0.9877 - val_loss: 0.0917 - val_accuracy: 0.9935\n",
      "Epoch 48/100\n",
      "816/816 [==============================] - 1s 851us/step - loss: 0.0439 - accuracy: 0.9858 - val_loss: 0.1040 - val_accuracy: 0.9865\n",
      "Epoch 49/100\n",
      "816/816 [==============================] - 1s 851us/step - loss: 0.0431 - accuracy: 0.9857 - val_loss: 0.2052 - val_accuracy: 0.9548\n",
      "Epoch 50/100\n",
      "816/816 [==============================] - 1s 846us/step - loss: 0.0525 - accuracy: 0.9823 - val_loss: 0.1038 - val_accuracy: 0.9857\n",
      "Epoch 51/100\n",
      "816/816 [==============================] - 1s 874us/step - loss: 0.0399 - accuracy: 0.9860 - val_loss: 0.1123 - val_accuracy: 0.9835\n",
      "Epoch 52/100\n",
      "816/816 [==============================] - 1s 862us/step - loss: 0.0547 - accuracy: 0.9815 - val_loss: 0.0849 - val_accuracy: 0.9926\n",
      "Epoch 53/100\n",
      "816/816 [==============================] - 1s 872us/step - loss: 0.0343 - accuracy: 0.9880 - val_loss: 0.1935 - val_accuracy: 0.9609\n",
      "Epoch 54/100\n",
      "816/816 [==============================] - 1s 857us/step - loss: 0.0469 - accuracy: 0.9846 - val_loss: 0.1351 - val_accuracy: 0.9818\n",
      "Epoch 55/100\n",
      "816/816 [==============================] - 1s 859us/step - loss: 0.0368 - accuracy: 0.9880 - val_loss: 0.1326 - val_accuracy: 0.9783\n",
      "Epoch 56/100\n",
      "816/816 [==============================] - 1s 858us/step - loss: 0.0392 - accuracy: 0.9877 - val_loss: 0.2322 - val_accuracy: 0.9492\n",
      "Epoch 57/100\n"
     ]
    },
    {
     "name": "stdout",
     "output_type": "stream",
     "text": [
      "816/816 [==============================] - 1s 856us/step - loss: 0.0416 - accuracy: 0.9876 - val_loss: 0.1954 - val_accuracy: 0.9544\n",
      "Epoch 58/100\n",
      "816/816 [==============================] - 1s 859us/step - loss: 0.0392 - accuracy: 0.9880 - val_loss: 0.1087 - val_accuracy: 0.9870\n",
      "Epoch 59/100\n",
      "816/816 [==============================] - 1s 867us/step - loss: 0.0415 - accuracy: 0.9869 - val_loss: 0.1366 - val_accuracy: 0.9748\n",
      "Epoch 60/100\n",
      "816/816 [==============================] - 1s 862us/step - loss: 0.0409 - accuracy: 0.9860 - val_loss: 0.1072 - val_accuracy: 0.9891\n",
      "Epoch 61/100\n",
      "816/816 [==============================] - 1s 875us/step - loss: 0.0336 - accuracy: 0.9900 - val_loss: 0.0905 - val_accuracy: 0.9935\n",
      "Epoch 62/100\n",
      "816/816 [==============================] - 1s 871us/step - loss: 0.0414 - accuracy: 0.9866 - val_loss: 0.1093 - val_accuracy: 0.9822\n",
      "Epoch 63/100\n",
      "816/816 [==============================] - 1s 871us/step - loss: 0.0378 - accuracy: 0.9881 - val_loss: 0.0971 - val_accuracy: 0.9900\n",
      "Epoch 64/100\n",
      "816/816 [==============================] - 1s 854us/step - loss: 0.0359 - accuracy: 0.9889 - val_loss: 0.0965 - val_accuracy: 0.9904\n",
      "Epoch 65/100\n",
      "816/816 [==============================] - 1s 883us/step - loss: 0.0455 - accuracy: 0.9857 - val_loss: 0.1498 - val_accuracy: 0.9752\n",
      "Epoch 66/100\n",
      "816/816 [==============================] - 1s 896us/step - loss: 0.0327 - accuracy: 0.9903 - val_loss: 0.1055 - val_accuracy: 0.9904\n",
      "Epoch 67/100\n",
      "816/816 [==============================] - 1s 887us/step - loss: 0.0320 - accuracy: 0.9891 - val_loss: 0.2254 - val_accuracy: 0.9505\n",
      "Epoch 68/100\n",
      "816/816 [==============================] - 1s 867us/step - loss: 0.0387 - accuracy: 0.9869 - val_loss: 0.0939 - val_accuracy: 0.9917\n",
      "Epoch 69/100\n",
      "816/816 [==============================] - 1s 852us/step - loss: 0.0321 - accuracy: 0.9896 - val_loss: 0.0969 - val_accuracy: 0.9913\n",
      "Epoch 70/100\n",
      "816/816 [==============================] - 1s 853us/step - loss: 0.0351 - accuracy: 0.9890 - val_loss: 0.0982 - val_accuracy: 0.9913\n",
      "Epoch 71/100\n",
      "816/816 [==============================] - 1s 895us/step - loss: 0.0464 - accuracy: 0.9851 - val_loss: 0.1688 - val_accuracy: 0.9618\n",
      "Epoch 72/100\n",
      "816/816 [==============================] - 1s 863us/step - loss: 0.0224 - accuracy: 0.9929 - val_loss: 0.0981 - val_accuracy: 0.9939\n",
      "Epoch 73/100\n",
      "816/816 [==============================] - 1s 892us/step - loss: 0.0401 - accuracy: 0.9874 - val_loss: 0.0916 - val_accuracy: 0.9952\n",
      "Epoch 74/100\n",
      "816/816 [==============================] - 1s 869us/step - loss: 0.0332 - accuracy: 0.9891 - val_loss: 0.1009 - val_accuracy: 0.9904\n",
      "Epoch 75/100\n",
      "816/816 [==============================] - 1s 854us/step - loss: 0.0254 - accuracy: 0.9912 - val_loss: 0.1240 - val_accuracy: 0.9839\n",
      "Epoch 76/100\n",
      "816/816 [==============================] - 1s 997us/step - loss: 0.0319 - accuracy: 0.9896 - val_loss: 0.1305 - val_accuracy: 0.9826\n",
      "Epoch 77/100\n",
      "816/816 [==============================] - 1s 939us/step - loss: 0.0352 - accuracy: 0.9880 - val_loss: 0.1123 - val_accuracy: 0.9857\n",
      "Epoch 78/100\n",
      "816/816 [==============================] - 1s 872us/step - loss: 0.0321 - accuracy: 0.9892 - val_loss: 0.0951 - val_accuracy: 0.9930\n",
      "Epoch 79/100\n",
      "816/816 [==============================] - 1s 863us/step - loss: 0.0323 - accuracy: 0.9904 - val_loss: 0.1049 - val_accuracy: 0.9852\n",
      "Epoch 80/100\n",
      "816/816 [==============================] - 1s 837us/step - loss: 0.0318 - accuracy: 0.9903 - val_loss: 0.1255 - val_accuracy: 0.9813\n",
      "Epoch 81/100\n",
      "816/816 [==============================] - 1s 835us/step - loss: 0.0369 - accuracy: 0.9886 - val_loss: 0.1075 - val_accuracy: 0.9896\n",
      "Epoch 82/100\n",
      "816/816 [==============================] - 1s 827us/step - loss: 0.0266 - accuracy: 0.9909 - val_loss: 0.0910 - val_accuracy: 0.9922\n",
      "Epoch 83/100\n",
      "816/816 [==============================] - 1s 851us/step - loss: 0.0267 - accuracy: 0.9914 - val_loss: 0.1019 - val_accuracy: 0.9939\n",
      "Epoch 84/100\n",
      "816/816 [==============================] - 1s 854us/step - loss: 0.0383 - accuracy: 0.9870 - val_loss: 0.1097 - val_accuracy: 0.9922\n",
      "Epoch 85/100\n",
      "816/816 [==============================] - 1s 832us/step - loss: 0.0271 - accuracy: 0.9921 - val_loss: 0.1715 - val_accuracy: 0.9666\n",
      "Epoch 86/100\n",
      "816/816 [==============================] - 1s 844us/step - loss: 0.0393 - accuracy: 0.9877 - val_loss: 0.0977 - val_accuracy: 0.9930\n",
      "Epoch 87/100\n",
      "816/816 [==============================] - 1s 858us/step - loss: 0.0206 - accuracy: 0.9933 - val_loss: 0.1343 - val_accuracy: 0.9839\n",
      "Epoch 88/100\n",
      "816/816 [==============================] - 1s 860us/step - loss: 0.0417 - accuracy: 0.9873 - val_loss: 0.0977 - val_accuracy: 0.9926\n",
      "Epoch 89/100\n",
      "816/816 [==============================] - 1s 858us/step - loss: 0.0264 - accuracy: 0.9916 - val_loss: 0.1355 - val_accuracy: 0.9805\n",
      "Epoch 90/100\n",
      "816/816 [==============================] - 1s 842us/step - loss: 0.0246 - accuracy: 0.9919 - val_loss: 0.1056 - val_accuracy: 0.9922\n",
      "Epoch 91/100\n",
      "816/816 [==============================] - 1s 831us/step - loss: 0.0300 - accuracy: 0.9891 - val_loss: 0.1019 - val_accuracy: 0.9922\n",
      "Epoch 92/100\n",
      "816/816 [==============================] - 1s 843us/step - loss: 0.0209 - accuracy: 0.9931 - val_loss: 0.1065 - val_accuracy: 0.9922\n",
      "Epoch 93/100\n",
      "816/816 [==============================] - 1s 859us/step - loss: 0.0418 - accuracy: 0.9862 - val_loss: 0.1240 - val_accuracy: 0.9913\n",
      "Epoch 94/100\n",
      "816/816 [==============================] - 1s 830us/step - loss: 0.0238 - accuracy: 0.9917 - val_loss: 0.1227 - val_accuracy: 0.9900\n",
      "Epoch 95/100\n",
      "816/816 [==============================] - 1s 860us/step - loss: 0.0415 - accuracy: 0.9864 - val_loss: 0.1189 - val_accuracy: 0.9852\n",
      "Epoch 96/100\n",
      "816/816 [==============================] - 1s 866us/step - loss: 0.0222 - accuracy: 0.9926 - val_loss: 0.1063 - val_accuracy: 0.9883\n",
      "Epoch 97/100\n",
      "816/816 [==============================] - 1s 892us/step - loss: 0.0228 - accuracy: 0.9919 - val_loss: 0.0995 - val_accuracy: 0.9926\n",
      "Epoch 98/100\n",
      "816/816 [==============================] - 1s 858us/step - loss: 0.0332 - accuracy: 0.9893 - val_loss: 0.1388 - val_accuracy: 0.9809\n",
      "Epoch 99/100\n",
      "816/816 [==============================] - 1s 899us/step - loss: 0.0241 - accuracy: 0.9921 - val_loss: 0.1080 - val_accuracy: 0.9935\n",
      "Epoch 100/100\n",
      "816/816 [==============================] - 1s 887us/step - loss: 0.0330 - accuracy: 0.9895 - val_loss: 0.1605 - val_accuracy: 0.9687\n"
     ]
    }
   ],
   "source": [
    "history = model.fit(X_train, y_train, epochs=100, callbacks=[checkpoint,earlyStopping],validation_data=(X_test,y_test),batch_size=16)"
   ]
  },
  {
   "cell_type": "code",
   "execution_count": 9,
   "metadata": {},
   "outputs": [],
   "source": [
    "model.save_weights(os.path.join(best_model_file_name))"
   ]
  },
  {
   "cell_type": "code",
   "execution_count": 21,
   "metadata": {},
   "outputs": [
    {
     "name": "stdout",
     "output_type": "stream",
     "text": [
      "408/408 [==============================] - 0s 543us/step - loss: 0.0090 - accuracy: 0.9968\n",
      "72/72 [==============================] - 0s 498us/step - loss: 0.0979 - accuracy: 0.9935\n",
      "[0.008962082676589489, 0.9967796206474304] [0.09788666665554047, 0.9934839010238647]\n"
     ]
    }
   ],
   "source": [
    "print(\n",
    "    model.evaluate(X_train,y_train),\n",
    "    model.evaluate(X_test,y_test)\n",
    ")"
   ]
  },
  {
   "cell_type": "code",
   "execution_count": 11,
   "metadata": {
    "id": "vgVq9DG9C6Vy"
   },
   "outputs": [],
   "source": [
    "model.save_weights(os.path.join(best_model_file_name))"
   ]
  },
  {
   "cell_type": "code",
   "execution_count": 20,
   "metadata": {
    "id": "oT-QByCFDbR9"
   },
   "outputs": [],
   "source": [
    "model.load_weights(os.path.join(best_model_file_name))"
   ]
  },
  {
   "cell_type": "markdown",
   "metadata": {
    "id": "Yodm-nWHDhbN"
   },
   "source": [
    "# evaluation\n",
    "\n",
    "\n",
    "- write matplotlib code to display both of them\n",
    "- then write function to display history and evaluation just one time"
   ]
  },
  {
   "cell_type": "code",
   "execution_count": 22,
   "metadata": {
    "id": "QSBFiclZDhdj"
   },
   "outputs": [
    {
     "data": {
      "image/png": "[encoded data removed]",
      "text/plain": [
       "<Figure size 432x288 with 1 Axes>"
      ]
     },
     "metadata": {
      "needs_background": "light"
     },
     "output_type": "display_data"
    }
   ],
   "source": [
    "plt.plot(history.history['accuracy'])\n",
    "plt.plot(history.history['val_accuracy'])\n",
    "plt.title('model accuracy')\n",
    "plt.ylabel('accuracy')\n",
    "plt.xlabel('epoch')\n",
    "plt.legend(['train', 'test'], loc='upper left')\n",
    "plt.show()"
   ]
  },
  {
   "cell_type": "code",
   "execution_count": 23,
   "metadata": {
    "id": "Az839b8iDii1"
   },
   "outputs": [
    {
     "data": {
      "image/png": "[encoded data removed]",
      "text/plain": [
       "<Figure size 432x288 with 1 Axes>"
      ]
     },
     "metadata": {
      "needs_background": "light"
     },
     "output_type": "display_data"
    }
   ],
   "source": [
    "# summarize history for loss\n",
    "plt.plot(history.history['loss'])\n",
    "plt.plot(history.history['val_loss'])\n",
    "plt.title('model loss')\n",
    "plt.ylabel('loss')\n",
    "plt.xlabel('epoch')\n",
    "plt.legend(['train', 'test'], loc='upper left')\n",
    "plt.show()"
   ]
  },
  {
   "cell_type": "code",
   "execution_count": 10,
   "metadata": {},
   "outputs": [
    {
     "name": "stdout",
     "output_type": "stream",
     "text": [
      "class : 0:sister --> [1.7010161876678467, 0.800000011920929]\n",
      "class : 1:hurry --> [0.0001951986487256363, 1.0]\n",
      "class : 2:hungry --> [0.00013828328519593924, 1.0]\n",
      "class : 3:meal --> [0.1749543994665146, 0.9473684430122375]\n",
      "class : 4:brother --> [0.7396684885025024, 0.8500000238418579]\n",
      "class : 5:tree --> [0.2636032998561859, 0.8999999761581421]\n",
      "class : 6:heavy --> [1.7032395601272583, 0.8461538553237915]\n",
      "class : 7:cry --> [0.13189388811588287, 0.949999988079071]\n",
      "class : 8:family --> [2.2531592549057677e-05, 1.0]\n",
      "class : 9:wise --> [0.39396458864212036, 0.9473684430122375]\n"
     ]
    }
   ],
   "source": [
    "for desired_class in range(10):\n",
    "    x = []\n",
    "    y = [] \n",
    "    for i,n in enumerate(val_Y):\n",
    "        if n==desired_class:\n",
    "            x.append(val_X[i])\n",
    "            y.append(n)\n",
    "\n",
    "    x = np.array(x)\n",
    "    y = np.array(y)\n",
    "    print(f\"class : {desired_class}:{actions[desired_class]} -->\",model.evaluate(x,y,verbose=0))\n",
    "        "
   ]
  },
  {
   "cell_type": "code",
   "execution_count": 23,
   "metadata": {},
   "outputs": [
    {
     "name": "stdout",
     "output_type": "stream",
     "text": [
      "WARNING:tensorflow:Layer lstm_25 will not use cuDNN kernels since it doesn't meet the criteria. It will use a generic GPU kernel as fallback when running on GPU.\n",
      "WARNING:tensorflow:Layer lstm_26 will not use cuDNN kernels since it doesn't meet the criteria. It will use a generic GPU kernel as fallback when running on GPU.\n",
      "WARNING:tensorflow:Layer lstm_27 will not use cuDNN kernels since it doesn't meet the criteria. It will use a generic GPU kernel as fallback when running on GPU.\n",
      "WARNING:tensorflow:Layer lstm_28 will not use cuDNN kernels since it doesn't meet the criteria. It will use a generic GPU kernel as fallback when running on GPU.\n",
      "WARNING:tensorflow:Layer lstm_29 will not use cuDNN kernels since it doesn't meet the criteria. It will use a generic GPU kernel as fallback when running on GPU.\n"
     ]
    }
   ],
   "source": [
    "model = first_model()\n",
    "model.load_weights(os.path.join(\"final_train_weights\",\"first_model_V1.h5\"))"
   ]
  },
  {
   "cell_type": "code",
   "execution_count": 24,
   "metadata": {},
   "outputs": [
    {
     "name": "stdout",
     "output_type": "stream",
     "text": [
      "class : 0:sister --> [2.1439902782440186, 0.699999988079071]\n",
      "class : 1:hurry --> [0.4425128996372223, 0.7894737124443054]\n",
      "class : 2:hungry --> [0.23317945003509521, 0.8999999761581421]\n",
      "class : 3:meal --> [0.05305203050374985, 0.9473684430122375]\n",
      "class : 4:brother --> [0.9514178037643433, 0.699999988079071]\n",
      "class : 5:tree --> [0.7925909757614136, 0.8500000238418579]\n",
      "class : 6:heavy --> [0.0105934152379632, 1.0]\n",
      "class : 7:cry --> [0.003288751933723688, 1.0]\n",
      "class : 8:family --> [3.0288221751106903e-05, 1.0]\n",
      "class : 9:wise --> [0.17635352909564972, 0.8947368264198303]\n"
     ]
    }
   ],
   "source": [
    "\n",
    "for desired_class in range(10):\n",
    "    x = []\n",
    "    y = [] \n",
    "    for i,n in enumerate(val_Y):\n",
    "        if n==desired_class:\n",
    "            x.append(val_X[i])\n",
    "            y.append(n)\n",
    "\n",
    "    x = np.array(x)\n",
    "    y = np.array(y)\n",
    "    print(f\"class : {desired_class}:{actions[desired_class]} -->\",model.evaluate(x,y,verbose=0))\n",
    "        "
   ]
  },
  {
   "cell_type": "code",
   "execution_count": 21,
   "metadata": {},
   "outputs": [
    {
     "name": "stdout",
     "output_type": "stream",
     "text": [
      "WARNING:tensorflow:Layer lstm_20 will not use cuDNN kernels since it doesn't meet the criteria. It will use a generic GPU kernel as fallback when running on GPU.\n",
      "WARNING:tensorflow:Layer lstm_21 will not use cuDNN kernels since it doesn't meet the criteria. It will use a generic GPU kernel as fallback when running on GPU.\n",
      "WARNING:tensorflow:Layer lstm_22 will not use cuDNN kernels since it doesn't meet the criteria. It will use a generic GPU kernel as fallback when running on GPU.\n",
      "WARNING:tensorflow:Layer lstm_23 will not use cuDNN kernels since it doesn't meet the criteria. It will use a generic GPU kernel as fallback when running on GPU.\n",
      "WARNING:tensorflow:Layer lstm_24 will not use cuDNN kernels since it doesn't meet the criteria. It will use a generic GPU kernel as fallback when running on GPU.\n"
     ]
    }
   ],
   "source": [
    "model = first_model()\n",
    "model.load_weights(os.path.join(\"final_train_weights\",\"first_model_V2.h5\"))"
   ]
  },
  {
   "cell_type": "code",
   "execution_count": 22,
   "metadata": {},
   "outputs": [
    {
     "name": "stdout",
     "output_type": "stream",
     "text": [
      "class : 0:sister --> [0.825576663017273, 0.8500000238418579]\n",
      "class : 1:hurry --> [0.01183120533823967, 1.0]\n",
      "class : 2:hungry --> [0.11262451112270355, 0.949999988079071]\n",
      "class : 3:meal --> [0.5067373514175415, 0.8947368264198303]\n",
      "class : 4:brother --> [1.662697434425354, 0.800000011920929]\n",
      "class : 5:tree --> [0.34248995780944824, 0.8999999761581421]\n",
      "class : 6:heavy --> [0.028256479650735855, 1.0]\n",
      "class : 7:cry --> [0.06529584527015686, 1.0]\n",
      "class : 8:family --> [0.0009215319296345115, 1.0]\n",
      "class : 9:wise --> [0.23732376098632812, 0.8947368264198303]\n"
     ]
    }
   ],
   "source": [
    "\n",
    "for desired_class in range(10):\n",
    "    x = []\n",
    "    y = [] \n",
    "    for i,n in enumerate(val_Y):\n",
    "        if n==desired_class:\n",
    "            x.append(val_X[i])\n",
    "            y.append(n)\n",
    "\n",
    "    x = np.array(x)\n",
    "    y = np.array(y)\n",
    "    print(f\"class : {desired_class}:{actions[desired_class]} -->\",model.evaluate(x,y,verbose=0))\n",
    "        "
   ]
  },
  {
   "cell_type": "code",
   "execution_count": null,
   "metadata": {},
   "outputs": [],
   "source": [
    "model = second_model()\n",
    "model.load_weights(os.path.join(\"final_train_weights\",\"second_model_V1.h5\"))"
   ]
  },
  {
   "cell_type": "code",
   "execution_count": 18,
   "metadata": {
    "id": "_JOV6H9iDhff"
   },
   "outputs": [
    {
     "name": "stdout",
     "output_type": "stream",
     "text": [
      "class : 0:sister --> [1.455183744430542, 0.75]\n",
      "class : 1:hurry --> [0.24843087792396545, 0.8421052694320679]\n",
      "class : 2:hungry --> [1.4502105712890625, 0.75]\n",
      "class : 3:meal --> [0.39883410930633545, 0.8947368264198303]\n",
      "class : 4:brother --> [0.8388317823410034, 0.800000011920929]\n",
      "class : 5:tree --> [1.0407341718673706, 0.800000011920929]\n",
      "class : 6:heavy --> [0.010108273476362228, 1.0]\n",
      "class : 7:cry --> [0.0016583595424890518, 1.0]\n",
      "class : 8:family --> [0.005287606734782457, 1.0]\n",
      "class : 9:wise --> [0.2445170283317566, 0.9473684430122375]\n"
     ]
    }
   ],
   "source": [
    "\n",
    "for desired_class in range(10):\n",
    "    x = []\n",
    "    y = [] \n",
    "    for i,n in enumerate(val_Y):\n",
    "        if n==desired_class:\n",
    "            x.append(val_X[i])\n",
    "            y.append(n)\n",
    "\n",
    "    x = np.array(x)\n",
    "    y = np.array(y)\n",
    "    print(f\"class : {desired_class}:{actions[desired_class]} -->\",model.evaluate(x,y,verbose=0))\n",
    "        "
   ]
  },
  {
   "cell_type": "code",
   "execution_count": null,
   "metadata": {},
   "outputs": [],
   "source": []
  }
 ],
 "metadata": {
  "colab": {
   "name": "LSTM with Mediapipe on 10 signs",
   "provenance": []
  },
  "kernelspec": {
   "display_name": "Python 3 (ipykernel)",
   "language": "python",
   "name": "python3"
  },
  "language_info": {
   "codemirror_mode": {
    "name": "ipython",
    "version": 3
   },
   "file_extension": ".py",
   "mimetype": "text/x-python",
   "name": "python",
   "nbconvert_exporter": "python",
   "pygments_lexer": "ipython3",
   "version": "3.8.10"
  }
 },
 "nbformat": 4,
 "nbformat_minor": 1
}
