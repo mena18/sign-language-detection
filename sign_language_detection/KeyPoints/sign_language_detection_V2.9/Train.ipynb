{
 "cells": [
  {
   "cell_type": "markdown",
   "metadata": {
    "id": "hRDaeItWCU_g"
   },
   "source": [
    "# training on existing Data"
   ]
  },
  {
   "cell_type": "code",
   "execution_count": 1,
   "metadata": {
    "id": "37Mp0HP7BPza"
   },
   "outputs": [
    {
     "name": "stderr",
     "output_type": "stream",
     "text": [
      "2022-05-23 20:43:57.778604: W tensorflow/stream_executor/platform/default/dso_loader.cc:64] Could not load dynamic library 'libcudart.so.11.0'; dlerror: libcudart.so.11.0: cannot open shared object file: No such file or directory; LD_LIBRARY_PATH: /home/mina/.local/lib/python3.8/site-packages/cv2/../../lib64:\n",
      "2022-05-23 20:43:57.778619: I tensorflow/stream_executor/cuda/cudart_stub.cc:29] Ignore above cudart dlerror if you do not have a GPU set up on your machine.\n"
     ]
    }
   ],
   "source": [
    "import numpy as np\n",
    "import cv2 \n",
    "import os\n",
    "import tensorflow as tf \n",
    "from tensorflow import keras\n",
    "import matplotlib.pyplot as plt\n",
    "import time\n",
    "import pandas as pd"
   ]
  },
  {
   "cell_type": "code",
   "execution_count": 2,
   "metadata": {
    "id": "blVDg26cCOVh"
   },
   "outputs": [],
   "source": [
    "actions = ['one','you','teacher','girl','tomorrow','mom','look','crazy','walk','agree','family','friends','get_to_know','help','how_are_you','love','street','teach_me','thank_yuo','want']"
   ]
  },
  {
   "cell_type": "code",
   "execution_count": 3,
   "metadata": {
    "colab": {
     "base_uri": "https://localhost:8080/"
    },
    "id": "avylHVOyClSC",
    "outputId": "99551649-9eec-492a-85fa-9c0c274cace3"
   },
   "outputs": [
    {
     "data": {
      "text/plain": [
       "['one',\n",
       " 'you',\n",
       " 'teacher',\n",
       " 'girl',\n",
       " 'tomorrow',\n",
       " 'mom',\n",
       " 'look',\n",
       " 'crazy',\n",
       " 'walk',\n",
       " 'agree',\n",
       " 'family',\n",
       " 'friends',\n",
       " 'get_to_know',\n",
       " 'help',\n",
       " 'how_are_you',\n",
       " 'love',\n",
       " 'street',\n",
       " 'teach_me',\n",
       " 'thank_yuo',\n",
       " 'want']"
      ]
     },
     "execution_count": 3,
     "metadata": {},
     "output_type": "execute_result"
    }
   ],
   "source": [
    "actions"
   ]
  },
  {
   "cell_type": "code",
   "execution_count": 5,
   "metadata": {
    "id": "KR_zxUuACl1b"
   },
   "outputs": [
    {
     "name": "stdout",
     "output_type": "stream",
     "text": [
      "(10512, 16, 62) (10512,) (399, 16, 62) (399,)\n"
     ]
    }
   ],
   "source": [
    "train_data = np.concatenate([\n",
    "    np.load(os.path.join(\"key_points\",'train','0.npy')),\n",
    "    np.load(os.path.join(\"key_points\",'train','1.npy')),\n",
    "    np.load(os.path.join(\"key_points\",'train','2.npy')),\n",
    "    np.load(os.path.join(\"key_points\",'old_train','0.npy')),\n",
    "    np.load(os.path.join(\"key_points\",'old_train','1.npy')),\n",
    "    np.load(os.path.join(\"key_points\",'old_train','2.npy')),\n",
    "])\n",
    "\n",
    "train_labels = np.concatenate([\n",
    "    np.load(os.path.join(\"key_points\",'train','labels.npy')),\n",
    "    np.load(os.path.join(\"key_points\",'train','labels.npy')),\n",
    "    np.load(os.path.join(\"key_points\",'train','labels.npy')),\n",
    "    np.load(os.path.join(\"key_points\",'old_train','labels.npy')),\n",
    "    np.load(os.path.join(\"key_points\",'old_train','labels.npy')),\n",
    "    np.load(os.path.join(\"key_points\",'old_train','labels.npy')),\n",
    "])\n",
    "\n",
    "test_data = np.concatenate([\n",
    "    np.load(os.path.join(\"key_points\",\"test\",'data.npy')) ,\n",
    "    np.load(os.path.join(\"key_points\",\"old_test\",'data.npy')) \n",
    "])\n",
    "\n",
    "test_labels = np.concatenate([\n",
    "    np.load(os.path.join(\"key_points\",\"test\",'labels.npy')) ,\n",
    "    np.load(os.path.join(\"key_points\",\"old_test\",'labels.npy')) \n",
    "])\n",
    "\n",
    "\n",
    "print(\n",
    "train_data.shape,\n",
    "    train_labels.shape,\n",
    "    test_data.shape,\n",
    "    test_labels.shape\n",
    "    \n",
    ")"
   ]
  },
  {
   "cell_type": "code",
   "execution_count": 6,
   "metadata": {
    "id": "l7Vf2vktC3uD"
   },
   "outputs": [
    {
     "name": "stdout",
     "output_type": "stream",
     "text": [
      "(10512, 16, 62) (10512,) (399, 16, 62) (399,)\n"
     ]
    }
   ],
   "source": [
    "perm = np.random.permutation(len(train_data))\n",
    "\n",
    "train_X = train_data[perm]\n",
    "train_Y = train_labels[perm]\n",
    "test_X = test_data\n",
    "test_Y = test_labels\n",
    "\n",
    "print(\n",
    "train_X.shape,\n",
    "train_Y.shape,\n",
    "test_X.shape,\n",
    "test_Y.shape,\n",
    ")\n"
   ]
  },
  {
   "cell_type": "code",
   "execution_count": 8,
   "metadata": {
    "id": "B7uto9CtC__i"
   },
   "outputs": [],
   "source": [
    "from tensorflow.keras.models import Sequential\n",
    "from tensorflow.keras.layers import LSTM, Dense,Input,Dropout\n",
    "from tensorflow.keras.models import Model\n",
    "from tensorflow.keras.callbacks import TensorBoard,ModelCheckpoint,EarlyStopping\n",
    "\n",
    "# v1 ->95% training , 88% validation,84% test\n",
    "# v1 =  os.path.join(\"final_train_weights\",\"first_model_V1.h5\")\n",
    "best_model_file_name = os.path.join(\"weights\",\"best.h5\")\n",
    "\n",
    "\n",
    "checkpoint = ModelCheckpoint(os.path.join(best_model_file_name), monitor='loss', verbose=0,\n",
    "    save_best_only=True, mode='auto', save_freq=1)\n",
    "earlyStopping = EarlyStopping(monitor='loss', patience=20)"
   ]
  },
  {
   "cell_type": "code",
   "execution_count": 9,
   "metadata": {
    "id": "DRiUwVxqDADk"
   },
   "outputs": [
    {
     "name": "stderr",
     "output_type": "stream",
     "text": [
      "2022-05-23 20:49:13.633698: I tensorflow/stream_executor/cuda/cuda_gpu_executor.cc:939] successful NUMA node read from SysFS had negative value (-1), but there must be at least one NUMA node, so returning NUMA node zero\n",
      "2022-05-23 20:49:13.634951: W tensorflow/stream_executor/platform/default/dso_loader.cc:64] Could not load dynamic library 'libcudart.so.11.0'; dlerror: libcudart.so.11.0: cannot open shared object file: No such file or directory; LD_LIBRARY_PATH: /home/mina/.local/lib/python3.8/site-packages/cv2/../../lib64:\n",
      "2022-05-23 20:49:13.635187: W tensorflow/stream_executor/platform/default/dso_loader.cc:64] Could not load dynamic library 'libcublas.so.11'; dlerror: libcublas.so.11: cannot open shared object file: No such file or directory; LD_LIBRARY_PATH: /home/mina/.local/lib/python3.8/site-packages/cv2/../../lib64:\n",
      "2022-05-23 20:49:13.635388: W tensorflow/stream_executor/platform/default/dso_loader.cc:64] Could not load dynamic library 'libcublasLt.so.11'; dlerror: libcublasLt.so.11: cannot open shared object file: No such file or directory; LD_LIBRARY_PATH: /home/mina/.local/lib/python3.8/site-packages/cv2/../../lib64:\n",
      "2022-05-23 20:49:13.635612: W tensorflow/stream_executor/platform/default/dso_loader.cc:64] Could not load dynamic library 'libcufft.so.10'; dlerror: libcufft.so.10: cannot open shared object file: No such file or directory; LD_LIBRARY_PATH: /home/mina/.local/lib/python3.8/site-packages/cv2/../../lib64:\n",
      "2022-05-23 20:49:13.635808: W tensorflow/stream_executor/platform/default/dso_loader.cc:64] Could not load dynamic library 'libcurand.so.10'; dlerror: libcurand.so.10: cannot open shared object file: No such file or directory; LD_LIBRARY_PATH: /home/mina/.local/lib/python3.8/site-packages/cv2/../../lib64:\n",
      "2022-05-23 20:49:13.635999: W tensorflow/stream_executor/platform/default/dso_loader.cc:64] Could not load dynamic library 'libcusolver.so.11'; dlerror: libcusolver.so.11: cannot open shared object file: No such file or directory; LD_LIBRARY_PATH: /home/mina/.local/lib/python3.8/site-packages/cv2/../../lib64:\n",
      "2022-05-23 20:49:13.636189: W tensorflow/stream_executor/platform/default/dso_loader.cc:64] Could not load dynamic library 'libcusparse.so.11'; dlerror: libcusparse.so.11: cannot open shared object file: No such file or directory; LD_LIBRARY_PATH: /home/mina/.local/lib/python3.8/site-packages/cv2/../../lib64:\n",
      "2022-05-23 20:49:13.637204: W tensorflow/core/common_runtime/gpu/gpu_device.cc:1850] Cannot dlopen some GPU libraries. Please make sure the missing libraries mentioned above are installed properly if you would like to use GPU. Follow the guide at https://www.tensorflow.org/install/gpu for how to download and setup the required libraries for your platform.\n",
      "Skipping registering GPU devices...\n",
      "2022-05-23 20:49:13.637879: I tensorflow/core/platform/cpu_feature_guard.cc:151] This TensorFlow binary is optimized with oneAPI Deep Neural Network Library (oneDNN) to use the following CPU instructions in performance-critical operations:  AVX2 FMA\n",
      "To enable them in other operations, rebuild TensorFlow with the appropriate compiler flags.\n"
     ]
    },
    {
     "name": "stdout",
     "output_type": "stream",
     "text": [
      "Model: \"model\"\n",
      "_________________________________________________________________\n",
      " Layer (type)                Output Shape              Param #   \n",
      "=================================================================\n",
      " input_1 (InputLayer)        [(None, 16, 62)]          0         \n",
      "                                                                 \n",
      " lstm (LSTM)                 (None, 16, 64)            32512     \n",
      "                                                                 \n",
      " lstm_1 (LSTM)               (None, 16, 128)           98816     \n",
      "                                                                 \n",
      " lstm_2 (LSTM)               (None, 16, 256)           394240    \n",
      "                                                                 \n",
      " lstm_3 (LSTM)               (None, 96)                135552    \n",
      "                                                                 \n",
      " dense (Dense)               (None, 64)                6208      \n",
      "                                                                 \n",
      " dense_1 (Dense)             (None, 20)                1300      \n",
      "                                                                 \n",
      "=================================================================\n",
      "Total params: 668,628\n",
      "Trainable params: 668,628\n",
      "Non-trainable params: 0\n",
      "_________________________________________________________________\n"
     ]
    }
   ],
   "source": [
    "def first_model():\n",
    "    input_layer = Input(shape=(20,62))\n",
    "    layer = LSTM(64,return_sequences=True,activation=\"relu\")(input_layer)\n",
    "    layer = LSTM(128,return_sequences=True,activation=\"relu\")(layer)\n",
    "    layer = LSTM(256,return_sequences=True,activation=\"relu\")(layer)\n",
    "    layer = LSTM(128,return_sequences=True,activation=\"relu\")(layer)\n",
    "    layer = LSTM(64,return_sequences=False,activation=\"relu\")(layer)\n",
    "    layer = Dense(64,activation=\"relu\")(layer)\n",
    "    layer = Dense(len(actions),activation=\"softmax\")(layer)\n",
    "\n",
    "    model = Model(inputs=input_layer,outputs=layer)\n",
    "    model.compile(optimizer='Adam', loss='sparse_categorical_crossentropy', metrics=['accuracy'])\n",
    "    \n",
    "    return model\n",
    "\n",
    "\n",
    "def second_model():\n",
    "    input_layer = Input(shape=(20,62))\n",
    "    layer = LSTM(64,return_sequences=True,activation=\"relu\")(input_layer)\n",
    "    layer = LSTM(128,return_sequences=True,activation=\"relu\")(layer)\n",
    "    layer = Dropout(0.5)(layer)\n",
    "    layer = LSTM(256,return_sequences=True,activation=\"relu\")(layer)\n",
    "    layer = Dropout(0.5)(layer)\n",
    "    layer = LSTM(128,return_sequences=True,activation=\"relu\")(layer)\n",
    "    layer = Dropout(0.5)(layer)\n",
    "    layer = LSTM(64,return_sequences=False,activation=\"relu\")(layer)\n",
    "    layer = Dense(64,activation=\"relu\")(layer)\n",
    "    layer = Dense(len(actions),activation=\"softmax\")(layer)\n",
    "\n",
    "    model = Model(inputs=input_layer,outputs=layer)\n",
    "    model.compile(optimizer='Adam', loss='sparse_categorical_crossentropy', metrics=['accuracy'])\n",
    "    \n",
    "    \n",
    "    return model\n",
    "\n",
    "def third_model():\n",
    "    input_layer = Input(shape=(16,62))\n",
    "    layer = LSTM(64,return_sequences=True,activation=\"relu\")(input_layer)\n",
    "    layer = LSTM(128,return_sequences=True,activation=\"relu\")(layer)\n",
    "    layer = LSTM(96,return_sequences=False,activation=\"relu\")(layer)\n",
    "    layer = Dense(64,activation=\"relu\")(layer)\n",
    "    layer = Dense(len(actions),activation=\"softmax\")(layer)\n",
    "\n",
    "\n",
    "    model = Model(inputs=input_layer,outputs=layer)\n",
    "    model.compile(optimizer=\"Adam\", loss='sparse_categorical_crossentropy', metrics=['accuracy'])\n",
    "    \n",
    "    return model\n",
    "\n",
    "\n",
    "\n",
    "def fourth_model():\n",
    "    input_layer = Input(shape=(16,62))\n",
    "    layer = LSTM(64,return_sequences=True,activation=\"relu\")(input_layer)\n",
    "    layer = LSTM(128,return_sequences=True,activation=\"relu\")(layer)\n",
    "    layer = LSTM(256,return_sequences=True,activation=\"relu\")(layer)\n",
    "    layer = LSTM(96,return_sequences=False,activation=\"relu\")(layer)\n",
    "    layer = Dense(64,activation=\"relu\")(layer)\n",
    "    layer = Dense(len(actions),activation=\"softmax\")(layer)\n",
    "\n",
    "\n",
    "    model = Model(inputs=input_layer,outputs=layer)\n",
    "    model.compile(optimizer=\"Adam\", loss='sparse_categorical_crossentropy', metrics=['accuracy'])\n",
    "    \n",
    "    return model\n",
    "\n",
    "\n",
    "model = fourth_model()\n",
    "model.summary()"
   ]
  },
  {
   "cell_type": "code",
   "execution_count": 9,
   "metadata": {},
   "outputs": [],
   "source": [
    "model.load_weights(os.path.join(\"weights\",\"V1.h5\"))"
   ]
  },
  {
   "cell_type": "code",
   "execution_count": 10,
   "metadata": {
    "id": "USlhUnH3DAHb"
   },
   "outputs": [
    {
     "name": "stdout",
     "output_type": "stream",
     "text": [
      "Epoch 1/100\n",
      "657/657 [==============================] - 30s 43ms/step - loss: 2.2957 - accuracy: 0.1814 - val_loss: 1.8520 - val_accuracy: 0.3158\n",
      "Epoch 2/100\n",
      "657/657 [==============================] - 80s 122ms/step - loss: 1.7279 - accuracy: 0.3587 - val_loss: 1.3172 - val_accuracy: 0.5238\n",
      "Epoch 3/100\n",
      "657/657 [==============================] - 75s 114ms/step - loss: 1.2199 - accuracy: 0.5572 - val_loss: 0.9481 - val_accuracy: 0.6516\n",
      "Epoch 4/100\n",
      "657/657 [==============================] - 73s 111ms/step - loss: 0.8788 - accuracy: 0.6878 - val_loss: 0.6697 - val_accuracy: 0.7218\n",
      "Epoch 5/100\n",
      "657/657 [==============================] - 77s 118ms/step - loss: 0.6301 - accuracy: 0.7751 - val_loss: 0.4944 - val_accuracy: 0.8396\n",
      "Epoch 6/100\n",
      "657/657 [==============================] - 75s 113ms/step - loss: 0.4910 - accuracy: 0.8265 - val_loss: 0.4249 - val_accuracy: 0.8772\n",
      "Epoch 7/100\n",
      "657/657 [==============================] - 70s 107ms/step - loss: 0.4254 - accuracy: 0.8532 - val_loss: 0.4394 - val_accuracy: 0.8371\n",
      "Epoch 8/100\n",
      "657/657 [==============================] - 73s 111ms/step - loss: 0.3882 - accuracy: 0.8653 - val_loss: 0.4325 - val_accuracy: 0.8195\n",
      "Epoch 9/100\n",
      "657/657 [==============================] - 70s 106ms/step - loss: 0.2988 - accuracy: 0.8936 - val_loss: 0.2311 - val_accuracy: 0.9173\n",
      "Epoch 10/100\n",
      "657/657 [==============================] - 72s 110ms/step - loss: 0.2486 - accuracy: 0.9118 - val_loss: 0.2066 - val_accuracy: 0.9273\n",
      "Epoch 11/100\n",
      "657/657 [==============================] - 73s 111ms/step - loss: 0.2438 - accuracy: 0.9175 - val_loss: 0.2273 - val_accuracy: 0.9198\n",
      "Epoch 12/100\n",
      "657/657 [==============================] - 73s 111ms/step - loss: 0.2047 - accuracy: 0.9293 - val_loss: 0.2464 - val_accuracy: 0.9248\n",
      "Epoch 13/100\n",
      "657/657 [==============================] - 74s 112ms/step - loss: 0.1737 - accuracy: 0.9442 - val_loss: 0.1515 - val_accuracy: 0.9599\n",
      "Epoch 14/100\n",
      "657/657 [==============================] - 74s 112ms/step - loss: 0.1582 - accuracy: 0.9487 - val_loss: 0.1167 - val_accuracy: 0.9724\n",
      "Epoch 15/100\n",
      "657/657 [==============================] - 68s 104ms/step - loss: 0.1557 - accuracy: 0.9476 - val_loss: 0.1426 - val_accuracy: 0.9699\n",
      "Epoch 16/100\n",
      "657/657 [==============================] - 70s 106ms/step - loss: 0.1460 - accuracy: 0.9537 - val_loss: 0.1409 - val_accuracy: 0.9574\n",
      "Epoch 17/100\n",
      "657/657 [==============================] - 72s 110ms/step - loss: 0.5130 - accuracy: 0.8409 - val_loss: 0.2692 - val_accuracy: 0.9198\n",
      "Epoch 18/100\n",
      "657/657 [==============================] - 78s 118ms/step - loss: 0.2102 - accuracy: 0.9293 - val_loss: 0.1542 - val_accuracy: 0.9574\n",
      "Epoch 19/100\n",
      "657/657 [==============================] - 74s 113ms/step - loss: 0.1424 - accuracy: 0.9532 - val_loss: 0.1381 - val_accuracy: 0.9599\n",
      "Epoch 20/100\n",
      "657/657 [==============================] - 73s 110ms/step - loss: 0.1449 - accuracy: 0.9525 - val_loss: 0.3480 - val_accuracy: 0.9073\n",
      "Epoch 21/100\n",
      "657/657 [==============================] - 75s 114ms/step - loss: 0.1163 - accuracy: 0.9635 - val_loss: 0.1353 - val_accuracy: 0.9499\n",
      "Epoch 22/100\n",
      "657/657 [==============================] - 75s 114ms/step - loss: 0.0916 - accuracy: 0.9691 - val_loss: 0.0908 - val_accuracy: 0.9699\n",
      "Epoch 23/100\n",
      "657/657 [==============================] - 82s 125ms/step - loss: 0.1077 - accuracy: 0.9649 - val_loss: 0.1077 - val_accuracy: 0.9674\n",
      "Epoch 24/100\n",
      "657/657 [==============================] - 80s 121ms/step - loss: 0.0944 - accuracy: 0.9710 - val_loss: 0.1814 - val_accuracy: 0.9424\n",
      "Epoch 25/100\n",
      "657/657 [==============================] - 76s 115ms/step - loss: 0.1581 - accuracy: 0.9541 - val_loss: 0.1040 - val_accuracy: 0.9699\n",
      "Epoch 26/100\n",
      "657/657 [==============================] - 27s 41ms/step - loss: 0.0976 - accuracy: 0.9702 - val_loss: 0.0562 - val_accuracy: 0.9850\n",
      "Epoch 27/100\n",
      "657/657 [==============================] - 12s 18ms/step - loss: 0.0598 - accuracy: 0.9816 - val_loss: 0.1646 - val_accuracy: 0.9449\n",
      "Epoch 28/100\n",
      "657/657 [==============================] - 12s 18ms/step - loss: 0.2272 - accuracy: 0.9355 - val_loss: 0.2515 - val_accuracy: 0.9073\n",
      "Epoch 29/100\n",
      "657/657 [==============================] - 13s 19ms/step - loss: 0.0798 - accuracy: 0.9751 - val_loss: 0.0663 - val_accuracy: 0.9799\n",
      "Epoch 30/100\n",
      "657/657 [==============================] - 13s 19ms/step - loss: 0.1198 - accuracy: 0.9663 - val_loss: 0.1523 - val_accuracy: 0.9549\n",
      "Epoch 31/100\n",
      "657/657 [==============================] - 13s 19ms/step - loss: 0.1040 - accuracy: 0.9690 - val_loss: 0.1263 - val_accuracy: 0.9699\n",
      "Epoch 32/100\n",
      "657/657 [==============================] - 12s 18ms/step - loss: 0.0654 - accuracy: 0.9800 - val_loss: 0.1569 - val_accuracy: 0.9424\n",
      "Epoch 33/100\n",
      "657/657 [==============================] - 12s 18ms/step - loss: 0.2051 - accuracy: 0.9584 - val_loss: 0.1652 - val_accuracy: 0.9474\n",
      "Epoch 34/100\n",
      "657/657 [==============================] - 12s 18ms/step - loss: 0.0693 - accuracy: 0.9786 - val_loss: 0.0945 - val_accuracy: 0.9749\n",
      "Epoch 35/100\n",
      "657/657 [==============================] - 12s 18ms/step - loss: 0.0656 - accuracy: 0.9797 - val_loss: 0.1110 - val_accuracy: 0.9749\n",
      "Epoch 36/100\n",
      "657/657 [==============================] - 12s 18ms/step - loss: 0.1692 - accuracy: 0.9528 - val_loss: 0.3880 - val_accuracy: 0.8647\n",
      "Epoch 37/100\n",
      "657/657 [==============================] - 12s 18ms/step - loss: 0.1879 - accuracy: 0.9345 - val_loss: 0.1497 - val_accuracy: 0.9524\n",
      "Epoch 38/100\n",
      "657/657 [==============================] - 12s 18ms/step - loss: 0.2132 - accuracy: 0.9474 - val_loss: 0.2011 - val_accuracy: 0.9298\n",
      "Epoch 39/100\n",
      "657/657 [==============================] - 12s 18ms/step - loss: 0.0831 - accuracy: 0.9772 - val_loss: 0.2289 - val_accuracy: 0.9424\n",
      "Epoch 40/100\n",
      "657/657 [==============================] - 12s 18ms/step - loss: 0.0949 - accuracy: 0.9726 - val_loss: 0.1445 - val_accuracy: 0.9524\n",
      "Epoch 41/100\n",
      "657/657 [==============================] - 12s 18ms/step - loss: 0.0544 - accuracy: 0.9810 - val_loss: 0.1451 - val_accuracy: 0.9524\n",
      "Epoch 42/100\n",
      "657/657 [==============================] - 12s 18ms/step - loss: 0.0680 - accuracy: 0.9793 - val_loss: 0.1055 - val_accuracy: 0.9624\n",
      "Epoch 43/100\n",
      "657/657 [==============================] - 12s 18ms/step - loss: 0.0570 - accuracy: 0.9821 - val_loss: 0.1380 - val_accuracy: 0.9499\n",
      "Epoch 44/100\n",
      "657/657 [==============================] - 12s 18ms/step - loss: 0.0521 - accuracy: 0.9840 - val_loss: 0.0700 - val_accuracy: 0.9749\n",
      "Epoch 45/100\n",
      "657/657 [==============================] - 12s 18ms/step - loss: 0.0783 - accuracy: 0.9756 - val_loss: 0.0680 - val_accuracy: 0.9825\n",
      "Epoch 46/100\n",
      "657/657 [==============================] - 12s 18ms/step - loss: 0.0411 - accuracy: 0.9877 - val_loss: 0.1027 - val_accuracy: 0.9649\n",
      "Epoch 47/100\n",
      "657/657 [==============================] - 12s 18ms/step - loss: 0.0450 - accuracy: 0.9866 - val_loss: 0.2544 - val_accuracy: 0.9298\n",
      "Epoch 48/100\n",
      "657/657 [==============================] - 12s 18ms/step - loss: 0.0415 - accuracy: 0.9877 - val_loss: 0.0481 - val_accuracy: 0.9774\n",
      "Epoch 49/100\n",
      "657/657 [==============================] - 12s 18ms/step - loss: 0.0478 - accuracy: 0.9856 - val_loss: 0.0718 - val_accuracy: 0.9825\n",
      "Epoch 50/100\n",
      "657/657 [==============================] - 12s 18ms/step - loss: 0.0659 - accuracy: 0.9793 - val_loss: 0.0661 - val_accuracy: 0.9774\n",
      "Epoch 51/100\n",
      "657/657 [==============================] - 12s 18ms/step - loss: 0.0242 - accuracy: 0.9929 - val_loss: 0.1080 - val_accuracy: 0.9624\n",
      "Epoch 52/100\n",
      "657/657 [==============================] - 12s 18ms/step - loss: 0.0437 - accuracy: 0.9865 - val_loss: 0.0569 - val_accuracy: 0.9799\n",
      "Epoch 53/100\n",
      "657/657 [==============================] - 12s 18ms/step - loss: 0.0460 - accuracy: 0.9856 - val_loss: 0.0532 - val_accuracy: 0.9850\n",
      "Epoch 54/100\n",
      "657/657 [==============================] - 12s 18ms/step - loss: 0.0630 - accuracy: 0.9817 - val_loss: 0.0909 - val_accuracy: 0.9674\n",
      "Epoch 55/100\n",
      "657/657 [==============================] - 12s 18ms/step - loss: 0.0596 - accuracy: 0.9840 - val_loss: 0.0475 - val_accuracy: 0.9850\n",
      "Epoch 56/100\n",
      "657/657 [==============================] - 12s 18ms/step - loss: 0.0410 - accuracy: 0.9885 - val_loss: 0.0732 - val_accuracy: 0.9774\n",
      "Epoch 57/100\n"
     ]
    },
    {
     "name": "stdout",
     "output_type": "stream",
     "text": [
      "657/657 [==============================] - 12s 18ms/step - loss: 0.0292 - accuracy: 0.9919 - val_loss: 0.0423 - val_accuracy: 0.9850\n",
      "Epoch 58/100\n",
      "657/657 [==============================] - 12s 18ms/step - loss: 0.0422 - accuracy: 0.9880 - val_loss: 0.0608 - val_accuracy: 0.9799\n",
      "Epoch 59/100\n",
      "657/657 [==============================] - 12s 18ms/step - loss: 0.0324 - accuracy: 0.9906 - val_loss: 0.0706 - val_accuracy: 0.9875\n",
      "Epoch 60/100\n",
      "657/657 [==============================] - 12s 18ms/step - loss: 0.3688 - accuracy: 0.9771 - val_loss: 0.1415 - val_accuracy: 0.9649\n",
      "Epoch 61/100\n",
      "657/657 [==============================] - 12s 19ms/step - loss: 0.0310 - accuracy: 0.9904 - val_loss: 0.0632 - val_accuracy: 0.9799\n",
      "Epoch 62/100\n",
      "657/657 [==============================] - 12s 19ms/step - loss: 0.0238 - accuracy: 0.9937 - val_loss: 0.0731 - val_accuracy: 0.9875\n",
      "Epoch 63/100\n",
      "657/657 [==============================] - 13s 19ms/step - loss: 0.0183 - accuracy: 0.9951 - val_loss: 0.0728 - val_accuracy: 0.9850\n",
      "Epoch 64/100\n",
      "657/657 [==============================] - 16s 25ms/step - loss: 0.0317 - accuracy: 0.9903 - val_loss: 0.0538 - val_accuracy: 0.9875\n",
      "Epoch 65/100\n",
      "657/657 [==============================] - 14s 21ms/step - loss: 0.0410 - accuracy: 0.9897 - val_loss: 0.0235 - val_accuracy: 0.9925\n",
      "Epoch 66/100\n",
      "657/657 [==============================] - 13s 20ms/step - loss: 0.0255 - accuracy: 0.9909 - val_loss: 0.0407 - val_accuracy: 0.9875\n",
      "Epoch 67/100\n",
      "657/657 [==============================] - 13s 19ms/step - loss: 0.0207 - accuracy: 0.9932 - val_loss: 0.0231 - val_accuracy: 0.9950\n",
      "Epoch 68/100\n",
      "657/657 [==============================] - 12s 19ms/step - loss: 0.1716 - accuracy: 0.9496 - val_loss: 0.1977 - val_accuracy: 0.9449\n",
      "Epoch 69/100\n",
      "657/657 [==============================] - 13s 19ms/step - loss: 0.0535 - accuracy: 0.9837 - val_loss: 0.0869 - val_accuracy: 0.9749\n",
      "Epoch 70/100\n",
      "657/657 [==============================] - 12s 19ms/step - loss: 0.0713 - accuracy: 0.9791 - val_loss: 0.0516 - val_accuracy: 0.9799\n",
      "Epoch 71/100\n",
      "657/657 [==============================] - 12s 19ms/step - loss: 0.0231 - accuracy: 0.9927 - val_loss: 0.0306 - val_accuracy: 0.9900\n",
      "Epoch 72/100\n",
      "657/657 [==============================] - 12s 19ms/step - loss: 0.0437 - accuracy: 0.9873 - val_loss: 0.0381 - val_accuracy: 0.9900\n",
      "Epoch 73/100\n",
      "657/657 [==============================] - 12s 19ms/step - loss: 0.0182 - accuracy: 0.9952 - val_loss: 0.0641 - val_accuracy: 0.9799\n",
      "Epoch 74/100\n",
      "657/657 [==============================] - 12s 19ms/step - loss: 0.0338 - accuracy: 0.9910 - val_loss: 0.1233 - val_accuracy: 0.9674\n",
      "Epoch 75/100\n",
      "657/657 [==============================] - 12s 19ms/step - loss: 0.0425 - accuracy: 0.9879 - val_loss: 0.0196 - val_accuracy: 0.9900\n",
      "Epoch 76/100\n",
      "657/657 [==============================] - 12s 19ms/step - loss: 0.1095 - accuracy: 0.9678 - val_loss: 0.0867 - val_accuracy: 0.9799\n",
      "Epoch 77/100\n",
      "657/657 [==============================] - 12s 19ms/step - loss: 0.0470 - accuracy: 0.9848 - val_loss: 0.0911 - val_accuracy: 0.9774\n",
      "Epoch 78/100\n",
      "657/657 [==============================] - 12s 19ms/step - loss: 0.0349 - accuracy: 0.9901 - val_loss: 0.0951 - val_accuracy: 0.9799\n",
      "Epoch 79/100\n",
      "657/657 [==============================] - 12s 19ms/step - loss: 0.0223 - accuracy: 0.9927 - val_loss: 0.0875 - val_accuracy: 0.9799\n",
      "Epoch 80/100\n",
      "657/657 [==============================] - 12s 19ms/step - loss: 0.0352 - accuracy: 0.9905 - val_loss: 0.2922 - val_accuracy: 0.9273\n",
      "Epoch 81/100\n",
      "657/657 [==============================] - 12s 19ms/step - loss: 0.0440 - accuracy: 0.9893 - val_loss: 0.0564 - val_accuracy: 0.9850\n",
      "Epoch 82/100\n",
      "657/657 [==============================] - 12s 19ms/step - loss: 0.0164 - accuracy: 0.9951 - val_loss: 0.0313 - val_accuracy: 0.9900\n",
      "Epoch 83/100\n",
      "657/657 [==============================] - 12s 19ms/step - loss: 0.0398 - accuracy: 0.9900 - val_loss: 0.0957 - val_accuracy: 0.9624\n",
      "Epoch 84/100\n",
      "657/657 [==============================] - 12s 19ms/step - loss: 0.0121 - accuracy: 0.9961 - val_loss: 0.0340 - val_accuracy: 0.9825\n",
      "Epoch 85/100\n",
      "657/657 [==============================] - 12s 19ms/step - loss: 0.0123 - accuracy: 0.9967 - val_loss: 0.1695 - val_accuracy: 0.9599\n",
      "Epoch 86/100\n",
      "657/657 [==============================] - 12s 19ms/step - loss: 0.0277 - accuracy: 0.9918 - val_loss: 0.0625 - val_accuracy: 0.9774\n",
      "Epoch 87/100\n",
      "657/657 [==============================] - 12s 19ms/step - loss: 1.8249 - accuracy: 0.8769 - val_loss: 0.4034 - val_accuracy: 0.8496\n",
      "Epoch 88/100\n",
      "657/657 [==============================] - 12s 19ms/step - loss: 0.1990 - accuracy: 0.9347 - val_loss: 0.1565 - val_accuracy: 0.9424\n",
      "Epoch 89/100\n",
      "657/657 [==============================] - 12s 19ms/step - loss: 0.1499 - accuracy: 0.9553 - val_loss: 0.0990 - val_accuracy: 0.9649\n",
      "Epoch 90/100\n",
      "657/657 [==============================] - 12s 19ms/step - loss: 0.0715 - accuracy: 0.9771 - val_loss: 0.1337 - val_accuracy: 0.9624\n",
      "Epoch 91/100\n",
      "657/657 [==============================] - 12s 19ms/step - loss: 0.0479 - accuracy: 0.9830 - val_loss: 0.0721 - val_accuracy: 0.9799\n",
      "Epoch 92/100\n",
      "657/657 [==============================] - 12s 19ms/step - loss: 0.0364 - accuracy: 0.9884 - val_loss: 0.0677 - val_accuracy: 0.9799\n",
      "Epoch 93/100\n",
      "657/657 [==============================] - 12s 19ms/step - loss: 0.0389 - accuracy: 0.9884 - val_loss: 0.1031 - val_accuracy: 0.9724\n",
      "Epoch 94/100\n",
      "657/657 [==============================] - 12s 19ms/step - loss: 0.0303 - accuracy: 0.9908 - val_loss: 0.0900 - val_accuracy: 0.9799\n",
      "Epoch 95/100\n",
      "657/657 [==============================] - 12s 19ms/step - loss: 0.0357 - accuracy: 0.9877 - val_loss: 0.1029 - val_accuracy: 0.9774\n",
      "Epoch 96/100\n",
      "657/657 [==============================] - 12s 19ms/step - loss: 0.0463 - accuracy: 0.9854 - val_loss: 0.1857 - val_accuracy: 0.9474\n",
      "Epoch 97/100\n",
      "657/657 [==============================] - 12s 19ms/step - loss: 0.0289 - accuracy: 0.9903 - val_loss: 0.1310 - val_accuracy: 0.9549\n",
      "Epoch 98/100\n",
      "657/657 [==============================] - 12s 19ms/step - loss: 0.0310 - accuracy: 0.9903 - val_loss: 0.0752 - val_accuracy: 0.9799\n",
      "Epoch 99/100\n",
      "657/657 [==============================] - 12s 19ms/step - loss: 0.0298 - accuracy: 0.9899 - val_loss: 0.1269 - val_accuracy: 0.9674\n",
      "Epoch 100/100\n",
      "657/657 [==============================] - 12s 19ms/step - loss: 0.0467 - accuracy: 0.9854 - val_loss: 0.0683 - val_accuracy: 0.9724\n"
     ]
    }
   ],
   "source": [
    "history = model.fit(train_X, train_Y, epochs=100, callbacks=[checkpoint,earlyStopping],validation_data=(test_X,test_Y),batch_size=16)"
   ]
  },
  {
   "cell_type": "code",
   "execution_count": 11,
   "metadata": {},
   "outputs": [],
   "source": [
    "model.save_weights(os.path.join(\"weights\",\"final.h5\"))"
   ]
  },
  {
   "cell_type": "code",
   "execution_count": null,
   "metadata": {},
   "outputs": [],
   "source": []
  },
  {
   "cell_type": "code",
   "execution_count": 12,
   "metadata": {},
   "outputs": [
    {
     "name": "stdout",
     "output_type": "stream",
     "text": [
      "329/329 [==============================] - 3s 8ms/step - loss: 0.0212 - accuracy: 0.9925\n",
      "13/13 [==============================] - 0s 8ms/step - loss: 0.0887 - accuracy: 0.9799\n",
      "[0.021247373893857002, 0.9924848079681396] [0.08868233859539032, 0.9799498915672302]\n"
     ]
    }
   ],
   "source": [
    "model.load_weights(os.path.join(\"weights\",\"best.h5\"))\n",
    "print(\n",
    "    model.evaluate(train_X,train_Y),\n",
    "    model.evaluate(test_X,test_Y)\n",
    ")"
   ]
  },
  {
   "cell_type": "code",
   "execution_count": 13,
   "metadata": {},
   "outputs": [
    {
     "name": "stdout",
     "output_type": "stream",
     "text": [
      "329/329 [==============================] - 3s 8ms/step - loss: 0.0177 - accuracy: 0.9939\n",
      "13/13 [==============================] - 0s 8ms/step - loss: 0.0683 - accuracy: 0.9724\n",
      "[0.017725441604852676, 0.9939117431640625] [0.06832781434059143, 0.9724310636520386]\n"
     ]
    }
   ],
   "source": [
    "model.load_weights(os.path.join(\"weights\",\"final.h5\"))\n",
    "print(\n",
    "    model.evaluate(train_X,train_Y),\n",
    "    model.evaluate(test_X,test_Y)\n",
    ")"
   ]
  },
  {
   "cell_type": "code",
   "execution_count": 14,
   "metadata": {
    "id": "vgVq9DG9C6Vy"
   },
   "outputs": [],
   "source": [
    "model.load_weights(os.path.join(\"weights\",\"best.h5\"))"
   ]
  },
  {
   "cell_type": "markdown",
   "metadata": {
    "id": "Yodm-nWHDhbN"
   },
   "source": [
    "# evaluation\n",
    "\n",
    "\n",
    "- write matplotlib code to display both of them\n",
    "- then write function to display history and evaluation just one time"
   ]
  },
  {
   "cell_type": "code",
   "execution_count": 15,
   "metadata": {
    "id": "QSBFiclZDhdj"
   },
   "outputs": [
    {
     "data": {
      "image/png": "[encoded data removed]",
      "text/plain": [
       "<Figure size 432x288 with 1 Axes>"
      ]
     },
     "metadata": {
      "needs_background": "light"
     },
     "output_type": "display_data"
    }
   ],
   "source": [
    "plt.plot(history.history['accuracy'])\n",
    "plt.plot(history.history['val_accuracy'])\n",
    "plt.title('model accuracy')\n",
    "plt.ylabel('accuracy')\n",
    "plt.xlabel('epoch')\n",
    "plt.legend(['train', 'test'], loc='upper left')\n",
    "plt.show()"
   ]
  },
  {
   "cell_type": "code",
   "execution_count": 16,
   "metadata": {
    "id": "Az839b8iDii1"
   },
   "outputs": [
    {
     "data": {
      "image/png": "[encoded data removed]",
      "text/plain": [
       "<Figure size 432x288 with 1 Axes>"
      ]
     },
     "metadata": {
      "needs_background": "light"
     },
     "output_type": "display_data"
    }
   ],
   "source": [
    "# summarize history for loss\n",
    "plt.plot(history.history['loss'])\n",
    "plt.plot(history.history['val_loss'])\n",
    "plt.title('model loss')\n",
    "plt.ylabel('loss')\n",
    "plt.xlabel('epoch')\n",
    "plt.legend(['train', 'test'], loc='upper left')\n",
    "plt.show()"
   ]
  },
  {
   "cell_type": "code",
   "execution_count": 9,
   "metadata": {},
   "outputs": [
    {
     "name": "stdout",
     "output_type": "stream",
     "text": [
      "WARNING:tensorflow:Layer lstm_3 will not use cuDNN kernels since it doesn't meet the criteria. It will use a generic GPU kernel as fallback when running on GPU.\n",
      "WARNING:tensorflow:Layer lstm_4 will not use cuDNN kernels since it doesn't meet the criteria. It will use a generic GPU kernel as fallback when running on GPU.\n",
      "WARNING:tensorflow:Layer lstm_5 will not use cuDNN kernels since it doesn't meet the criteria. It will use a generic GPU kernel as fallback when running on GPU.\n"
     ]
    }
   ],
   "source": [
    "model = third_model()\n",
    "model.load_weights(os.path.join(\"final_train_weights\",\"third_model_V1.h5\"))"
   ]
  },
  {
   "cell_type": "code",
   "execution_count": 18,
   "metadata": {},
   "outputs": [
    {
     "name": "stdout",
     "output_type": "stream",
     "text": [
      "class : 0:one --> [0.14017033576965332, 0.9417989253997803]\n",
      "class : 1:you --> [0.03577912226319313, 0.9869646430015564]\n",
      "class : 2:teacher --> [5.188880822970532e-05, 1.0]\n",
      "class : 3:girl --> [0.15702538192272186, 0.9450757503509521]\n",
      "class : 4:tomorrow --> [0.0007461930508725345, 1.0]\n",
      "class : 5:mom --> [0.0069121564738452435, 0.9980506896972656]\n",
      "class : 6:look --> [0.008240905590355396, 0.9981378316879272]\n",
      "class : 7:crazy --> [0.027088787406682968, 0.9922928810119629]\n",
      "class : 8:walk --> [0.0015937982825562358, 1.0]\n",
      "class : 9:agree --> [0.004349512979388237, 0.9980952143669128]\n",
      "class : 10:family --> [0.002662163693457842, 1.0]\n",
      "class : 11:friends --> [0.00347180780954659, 1.0]\n",
      "class : 12:get_to_know --> [0.000609580718446523, 1.0]\n",
      "class : 13:help --> [0.0035184312146157026, 1.0]\n",
      "class : 14:how_are_you --> [0.00014207813364919275, 1.0]\n",
      "class : 15:love --> [0.006667621899396181, 0.998106062412262]\n",
      "class : 16:street --> [0.009226907044649124, 0.9962335228919983]\n",
      "class : 17:teach_me --> [4.8831036110641435e-05, 1.0]\n",
      "class : 18:thank_yuo --> [0.0016879037721082568, 1.0]\n",
      "class : 19:want --> [0.002912428230047226, 1.0]\n"
     ]
    }
   ],
   "source": [
    "for desired_class in range(20):\n",
    "    x = []\n",
    "    y = [] \n",
    "    for i,n in enumerate(train_Y):\n",
    "        if n==desired_class:\n",
    "            x.append(train_X[i])\n",
    "            y.append(n)\n",
    "\n",
    "    x = np.array(x)\n",
    "    y = np.array(y)\n",
    "    print(f\"class : {desired_class}:{actions[desired_class]} -->\",model.evaluate(x,y,verbose=0))\n",
    "        "
   ]
  },
  {
   "cell_type": "code",
   "execution_count": 23,
   "metadata": {},
   "outputs": [
    {
     "name": "stdout",
     "output_type": "stream",
     "text": [
      "WARNING:tensorflow:Layer lstm_25 will not use cuDNN kernels since it doesn't meet the criteria. It will use a generic GPU kernel as fallback when running on GPU.\n",
      "WARNING:tensorflow:Layer lstm_26 will not use cuDNN kernels since it doesn't meet the criteria. It will use a generic GPU kernel as fallback when running on GPU.\n",
      "WARNING:tensorflow:Layer lstm_27 will not use cuDNN kernels since it doesn't meet the criteria. It will use a generic GPU kernel as fallback when running on GPU.\n",
      "WARNING:tensorflow:Layer lstm_28 will not use cuDNN kernels since it doesn't meet the criteria. It will use a generic GPU kernel as fallback when running on GPU.\n",
      "WARNING:tensorflow:Layer lstm_29 will not use cuDNN kernels since it doesn't meet the criteria. It will use a generic GPU kernel as fallback when running on GPU.\n"
     ]
    }
   ],
   "source": [
    "model = first_model()\n",
    "model.load_weights(os.path.join(\"final_train_weights\",\"first_model_V1.h5\"))"
   ]
  },
  {
   "cell_type": "code",
   "execution_count": 24,
   "metadata": {},
   "outputs": [
    {
     "name": "stdout",
     "output_type": "stream",
     "text": [
      "class : 0:sister --> [2.1439902782440186, 0.699999988079071]\n",
      "class : 1:hurry --> [0.4425128996372223, 0.7894737124443054]\n",
      "class : 2:hungry --> [0.23317945003509521, 0.8999999761581421]\n",
      "class : 3:meal --> [0.05305203050374985, 0.9473684430122375]\n",
      "class : 4:brother --> [0.9514178037643433, 0.699999988079071]\n",
      "class : 5:tree --> [0.7925909757614136, 0.8500000238418579]\n",
      "class : 6:heavy --> [0.0105934152379632, 1.0]\n",
      "class : 7:cry --> [0.003288751933723688, 1.0]\n",
      "class : 8:family --> [3.0288221751106903e-05, 1.0]\n",
      "class : 9:wise --> [0.17635352909564972, 0.8947368264198303]\n"
     ]
    }
   ],
   "source": [
    "\n",
    "for desired_class in range(10):\n",
    "    x = []\n",
    "    y = [] \n",
    "    for i,n in enumerate(val_Y):\n",
    "        if n==desired_class:\n",
    "            x.append(val_X[i])\n",
    "            y.append(n)\n",
    "\n",
    "    x = np.array(x)\n",
    "    y = np.array(y)\n",
    "    print(f\"class : {desired_class}:{actions[desired_class]} -->\",model.evaluate(x,y,verbose=0))\n",
    "        "
   ]
  },
  {
   "cell_type": "code",
   "execution_count": 21,
   "metadata": {},
   "outputs": [
    {
     "name": "stdout",
     "output_type": "stream",
     "text": [
      "WARNING:tensorflow:Layer lstm_20 will not use cuDNN kernels since it doesn't meet the criteria. It will use a generic GPU kernel as fallback when running on GPU.\n",
      "WARNING:tensorflow:Layer lstm_21 will not use cuDNN kernels since it doesn't meet the criteria. It will use a generic GPU kernel as fallback when running on GPU.\n",
      "WARNING:tensorflow:Layer lstm_22 will not use cuDNN kernels since it doesn't meet the criteria. It will use a generic GPU kernel as fallback when running on GPU.\n",
      "WARNING:tensorflow:Layer lstm_23 will not use cuDNN kernels since it doesn't meet the criteria. It will use a generic GPU kernel as fallback when running on GPU.\n",
      "WARNING:tensorflow:Layer lstm_24 will not use cuDNN kernels since it doesn't meet the criteria. It will use a generic GPU kernel as fallback when running on GPU.\n"
     ]
    }
   ],
   "source": [
    "model = first_model()\n",
    "model.load_weights(os.path.join(\"final_train_weights\",\"first_model_V2.h5\"))"
   ]
  },
  {
   "cell_type": "code",
   "execution_count": 22,
   "metadata": {},
   "outputs": [
    {
     "name": "stdout",
     "output_type": "stream",
     "text": [
      "class : 0:sister --> [0.825576663017273, 0.8500000238418579]\n",
      "class : 1:hurry --> [0.01183120533823967, 1.0]\n",
      "class : 2:hungry --> [0.11262451112270355, 0.949999988079071]\n",
      "class : 3:meal --> [0.5067373514175415, 0.8947368264198303]\n",
      "class : 4:brother --> [1.662697434425354, 0.800000011920929]\n",
      "class : 5:tree --> [0.34248995780944824, 0.8999999761581421]\n",
      "class : 6:heavy --> [0.028256479650735855, 1.0]\n",
      "class : 7:cry --> [0.06529584527015686, 1.0]\n",
      "class : 8:family --> [0.0009215319296345115, 1.0]\n",
      "class : 9:wise --> [0.23732376098632812, 0.8947368264198303]\n"
     ]
    }
   ],
   "source": [
    "\n",
    "for desired_class in range(10):\n",
    "    x = []\n",
    "    y = [] \n",
    "    for i,n in enumerate(val_Y):\n",
    "        if n==desired_class:\n",
    "            x.append(val_X[i])\n",
    "            y.append(n)\n",
    "\n",
    "    x = np.array(x)\n",
    "    y = np.array(y)\n",
    "    print(f\"class : {desired_class}:{actions[desired_class]} -->\",model.evaluate(x,y,verbose=0))\n",
    "        "
   ]
  },
  {
   "cell_type": "code",
   "execution_count": null,
   "metadata": {},
   "outputs": [],
   "source": [
    "model = second_model()\n",
    "model.load_weights(os.path.join(\"final_train_weights\",\"second_model_V1.h5\"))"
   ]
  },
  {
   "cell_type": "code",
   "execution_count": 18,
   "metadata": {
    "id": "_JOV6H9iDhff"
   },
   "outputs": [
    {
     "name": "stdout",
     "output_type": "stream",
     "text": [
      "class : 0:sister --> [1.455183744430542, 0.75]\n",
      "class : 1:hurry --> [0.24843087792396545, 0.8421052694320679]\n",
      "class : 2:hungry --> [1.4502105712890625, 0.75]\n",
      "class : 3:meal --> [0.39883410930633545, 0.8947368264198303]\n",
      "class : 4:brother --> [0.8388317823410034, 0.800000011920929]\n",
      "class : 5:tree --> [1.0407341718673706, 0.800000011920929]\n",
      "class : 6:heavy --> [0.010108273476362228, 1.0]\n",
      "class : 7:cry --> [0.0016583595424890518, 1.0]\n",
      "class : 8:family --> [0.005287606734782457, 1.0]\n",
      "class : 9:wise --> [0.2445170283317566, 0.9473684430122375]\n"
     ]
    }
   ],
   "source": [
    "\n",
    "for desired_class in range(10):\n",
    "    x = []\n",
    "    y = [] \n",
    "    for i,n in enumerate(val_Y):\n",
    "        if n==desired_class:\n",
    "            x.append(val_X[i])\n",
    "            y.append(n)\n",
    "\n",
    "    x = np.array(x)\n",
    "    y = np.array(y)\n",
    "    print(f\"class : {desired_class}:{actions[desired_class]} -->\",model.evaluate(x,y,verbose=0))\n",
    "        "
   ]
  },
  {
   "cell_type": "code",
   "execution_count": null,
   "metadata": {},
   "outputs": [],
   "source": []
  }
 ],
 "metadata": {
  "colab": {
   "name": "LSTM with Mediapipe on 10 signs",
   "provenance": []
  },
  "kernelspec": {
   "display_name": "Python 3 (ipykernel)",
   "language": "python",
   "name": "python3"
  },
  "language_info": {
   "codemirror_mode": {
    "name": "ipython",
    "version": 3
   },
   "file_extension": ".py",
   "mimetype": "text/x-python",
   "name": "python",
   "nbconvert_exporter": "python",
   "pygments_lexer": "ipython3",
   "version": "3.8.10"
  }
 },
 "nbformat": 4,
 "nbformat_minor": 1
}
