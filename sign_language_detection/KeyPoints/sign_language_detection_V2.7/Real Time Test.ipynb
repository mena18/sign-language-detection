{
 "cells": [
  {
   "cell_type": "markdown",
   "id": "e0c03c2d",
   "metadata": {},
   "source": [
    "# 1 - install dependencies"
   ]
  },
  {
   "cell_type": "code",
   "execution_count": 1,
   "id": "0bffa97f",
   "metadata": {},
   "outputs": [
    {
     "name": "stderr",
     "output_type": "stream",
     "text": [
      "2022-04-01 19:54:00.175580: W tensorflow/stream_executor/platform/default/dso_loader.cc:64] Could not load dynamic library 'libcudart.so.11.0'; dlerror: libcudart.so.11.0: cannot open shared object file: No such file or directory; LD_LIBRARY_PATH: /home/mina/.local/lib/python3.8/site-packages/cv2/../../lib64:\n",
      "2022-04-01 19:54:00.175598: I tensorflow/stream_executor/cuda/cudart_stub.cc:29] Ignore above cudart dlerror if you do not have a GPU set up on your machine.\n"
     ]
    }
   ],
   "source": [
    "import numpy as np\n",
    "import cv2 \n",
    "import os\n",
    "import mediapipe as mp\n",
    "import tensorflow as tf \n",
    "from tensorflow import keras\n",
    "import matplotlib.pyplot as plt\n",
    "import time\n",
    "import pandas as pd"
   ]
  },
  {
   "cell_type": "code",
   "execution_count": 2,
   "id": "ab75ce58",
   "metadata": {},
   "outputs": [],
   "source": [
    "mp_holistic = mp.solutions.holistic\n",
    "mp_drawing = mp.solutions.drawing_utils\n",
    "\n",
    "num_hand_marks = 21\n",
    "num_pose_marks = 33\n",
    "\n",
    "\n",
    "pose_selected_landmarks = [\n",
    "    [0,2,5,11,13,15,12,14,16],\n",
    "    [0,2,4,5,8,9,12,13,16,17,20],\n",
    "    [0,2,4,5,8,9,12,13,16,17,20],\n",
    "]\n",
    "\n",
    "def draw_updated_styled(image,results):\n",
    "    image_rows, image_cols, _ = image.shape\n",
    "    \n",
    "    original_landmarks = [\n",
    "        results.pose_landmarks,\n",
    "        results.left_hand_landmarks,\n",
    "        results.right_hand_landmarks\n",
    "    ]\n",
    "\n",
    "    \n",
    "    for shape in range(3):\n",
    "        if(original_landmarks[shape]):\n",
    "            lis = original_landmarks[shape].landmark\n",
    "            for idx in pose_selected_landmarks[shape]:\n",
    "                point = lis[idx]\n",
    "                landmark_px = mp_drawing._normalized_to_pixel_coordinates(point.x, point.y,\n",
    "                                                           image_cols, image_rows)\n",
    "\n",
    "                cv2.circle(image, landmark_px, 2, (0,0,255),\n",
    "                         4)     \n",
    "                \n",
    "def extract_keypoints(results):\n",
    "    \n",
    "    original_landmarks = [\n",
    "        results.pose_landmarks,\n",
    "        results.left_hand_landmarks,\n",
    "        results.right_hand_landmarks\n",
    "    ]\n",
    "    \n",
    "    outputs = []\n",
    "    for shape in range(3):\n",
    "        if(original_landmarks[shape]):\n",
    "            lis = original_landmarks[shape].landmark\n",
    "            pose = np.array([ [lis[res].x,lis[res].y] for res in pose_selected_landmarks[shape] ]).flatten()\n",
    "        else:\n",
    "            pose = np.zeros(len(pose_selected_landmarks[shape])*2)\n",
    "        outputs.append(pose)\n",
    "    return np.concatenate([outputs[0],outputs[1],outputs[2]])\n",
    "\n",
    "\n",
    "\n",
    "# holistic model process image and return the results as keypoints\n",
    "def mediapipe_detection(image,model):\n",
    "    image  = cv2.cvtColor(image,cv2.COLOR_BGR2RGB)\n",
    "    image.flags.writeable = False\n",
    "    results = model.process(image)\n",
    "    image.flags.writeable = True\n",
    "    image  = cv2.cvtColor(image,cv2.COLOR_RGB2BGR)\n",
    "    return image,results\n",
    "    \n",
    "    \n",
    "\n",
    "\n",
    "def draw_landmark_from_array(image,keyPoints):\n",
    "    image_rows, image_cols, _ = image.shape\n",
    "    \n",
    "    \n",
    "    for i in range(len(keyPoints)//2):\n",
    "        x = keyPoints[i*2]\n",
    "        y = keyPoints[i*2+1]\n",
    "        if(x!=0 and y!=0): \n",
    "            landmark_px = mp_drawing._normalized_to_pixel_coordinates(x,y,\n",
    "                                                       image_cols, image_rows)\n",
    "            cv2.circle(image, landmark_px, 2, (0,0,255),\n",
    "                     4)\n",
    "\n",
    "                \n"
   ]
  },
  {
   "cell_type": "code",
   "execution_count": 3,
   "id": "33dcd736",
   "metadata": {},
   "outputs": [
    {
     "name": "stdout",
     "output_type": "stream",
     "text": [
      "{'one': 0, 'you': 1, 'teacher': 2, 'girl': 3, 'tomorrow': 4, 'mom': 5, 'look': 6, 'crazy': 7, 'walk': 8, 'agree': 9}\n"
     ]
    }
   ],
   "source": [
    "actions = ['one','you','teacher','girl','tomorrow','mom','look','crazy','walk','agree']\n",
    "dic={}\n",
    "for i,action in enumerate(actions):\n",
    "    dic[action]=i\n",
    "\n",
    "print(dic)"
   ]
  },
  {
   "cell_type": "markdown",
   "id": "e742a5d4",
   "metadata": {},
   "source": [
    "# 4 - build and train the model"
   ]
  },
  {
   "cell_type": "code",
   "execution_count": 4,
   "id": "c0c15994",
   "metadata": {},
   "outputs": [],
   "source": [
    "from tensorflow.keras.models import Sequential\n",
    "from tensorflow.keras.layers import LSTM, Dense,Input,Dropout\n",
    "from tensorflow.keras.models import Model\n",
    "\n",
    "best_model_file_name = os.path.join(\"weights\",\"pretrain2.h5\")\n",
    "\n"
   ]
  },
  {
   "cell_type": "code",
   "execution_count": 5,
   "id": "dfdeb079",
   "metadata": {},
   "outputs": [
    {
     "name": "stdout",
     "output_type": "stream",
     "text": [
      "Model: \"model\"\n",
      "_________________________________________________________________\n",
      " Layer (type)                Output Shape              Param #   \n",
      "=================================================================\n",
      " input_1 (InputLayer)        [(None, 16, 62)]          0         \n",
      "                                                                 \n",
      " lstm (LSTM)                 (None, 16, 64)            32512     \n",
      "                                                                 \n",
      " lstm_1 (LSTM)               (None, 16, 128)           98816     \n",
      "                                                                 \n",
      " lstm_2 (LSTM)               (None, 96)                86400     \n",
      "                                                                 \n",
      " dense (Dense)               (None, 64)                6208      \n",
      "                                                                 \n",
      " dense_1 (Dense)             (None, 10)                650       \n",
      "                                                                 \n",
      "=================================================================\n",
      "Total params: 224,586\n",
      "Trainable params: 224,586\n",
      "Non-trainable params: 0\n",
      "_________________________________________________________________\n"
     ]
    },
    {
     "name": "stderr",
     "output_type": "stream",
     "text": [
      "2022-04-01 19:54:09.835721: I tensorflow/stream_executor/cuda/cuda_gpu_executor.cc:939] successful NUMA node read from SysFS had negative value (-1), but there must be at least one NUMA node, so returning NUMA node zero\n",
      "2022-04-01 19:54:09.835949: W tensorflow/stream_executor/platform/default/dso_loader.cc:64] Could not load dynamic library 'libcudart.so.11.0'; dlerror: libcudart.so.11.0: cannot open shared object file: No such file or directory; LD_LIBRARY_PATH: /home/mina/.local/lib/python3.8/site-packages/cv2/../../lib64:\n",
      "2022-04-01 19:54:09.835986: W tensorflow/stream_executor/platform/default/dso_loader.cc:64] Could not load dynamic library 'libcublas.so.11'; dlerror: libcublas.so.11: cannot open shared object file: No such file or directory; LD_LIBRARY_PATH: /home/mina/.local/lib/python3.8/site-packages/cv2/../../lib64:\n",
      "2022-04-01 19:54:09.836017: W tensorflow/stream_executor/platform/default/dso_loader.cc:64] Could not load dynamic library 'libcublasLt.so.11'; dlerror: libcublasLt.so.11: cannot open shared object file: No such file or directory; LD_LIBRARY_PATH: /home/mina/.local/lib/python3.8/site-packages/cv2/../../lib64:\n",
      "2022-04-01 19:54:09.836049: W tensorflow/stream_executor/platform/default/dso_loader.cc:64] Could not load dynamic library 'libcufft.so.10'; dlerror: libcufft.so.10: cannot open shared object file: No such file or directory; LD_LIBRARY_PATH: /home/mina/.local/lib/python3.8/site-packages/cv2/../../lib64:\n",
      "2022-04-01 19:54:09.836081: W tensorflow/stream_executor/platform/default/dso_loader.cc:64] Could not load dynamic library 'libcurand.so.10'; dlerror: libcurand.so.10: cannot open shared object file: No such file or directory; LD_LIBRARY_PATH: /home/mina/.local/lib/python3.8/site-packages/cv2/../../lib64:\n",
      "2022-04-01 19:54:09.836111: W tensorflow/stream_executor/platform/default/dso_loader.cc:64] Could not load dynamic library 'libcusolver.so.11'; dlerror: libcusolver.so.11: cannot open shared object file: No such file or directory; LD_LIBRARY_PATH: /home/mina/.local/lib/python3.8/site-packages/cv2/../../lib64:\n",
      "2022-04-01 19:54:09.836142: W tensorflow/stream_executor/platform/default/dso_loader.cc:64] Could not load dynamic library 'libcusparse.so.11'; dlerror: libcusparse.so.11: cannot open shared object file: No such file or directory; LD_LIBRARY_PATH: /home/mina/.local/lib/python3.8/site-packages/cv2/../../lib64:\n",
      "2022-04-01 19:54:09.836235: W tensorflow/core/common_runtime/gpu/gpu_device.cc:1850] Cannot dlopen some GPU libraries. Please make sure the missing libraries mentioned above are installed properly if you would like to use GPU. Follow the guide at https://www.tensorflow.org/install/gpu for how to download and setup the required libraries for your platform.\n",
      "Skipping registering GPU devices...\n",
      "2022-04-01 19:54:09.837139: I tensorflow/core/platform/cpu_feature_guard.cc:151] This TensorFlow binary is optimized with oneAPI Deep Neural Network Library (oneDNN) to use the following CPU instructions in performance-critical operations:  AVX2 FMA\n",
      "To enable them in other operations, rebuild TensorFlow with the appropriate compiler flags.\n"
     ]
    }
   ],
   "source": [
    "def V1():\n",
    "    input_layer = Input(shape=(16,62))\n",
    "    layer = LSTM(64,return_sequences=True,activation=\"relu\")(input_layer)\n",
    "    layer = LSTM(128,return_sequences=True,activation=\"relu\")(layer)\n",
    "    layer = LSTM(96,return_sequences=False,activation=\"relu\")(layer)\n",
    "    layer = Dense(64,activation=\"relu\")(layer)\n",
    "    layer = Dense(len(actions),activation=\"softmax\")(layer)\n",
    "\n",
    "    \n",
    "    model = Model(inputs=input_layer,outputs=layer)\n",
    "    model.compile(optimizer=\"Adam\", loss='sparse_categorical_crossentropy', metrics=['accuracy'])\n",
    "    \n",
    "    return model\n",
    "\n",
    "\n",
    "\n",
    "def V2():\n",
    "    input_layer = Input(shape=(16,62))\n",
    "    layer = LSTM(64,return_sequences=True,activation=\"relu\")(input_layer)\n",
    "    layer = LSTM(128,return_sequences=True,activation=\"relu\")(layer)\n",
    "    layer = LSTM(256,return_sequences=True,activation=\"relu\")(layer)\n",
    "    layer = LSTM(128,return_sequences=True,activation=\"relu\")(layer)\n",
    "    layer = LSTM(64,return_sequences=False,activation=\"relu\")(layer)\n",
    "    layer = Dense(64,activation=\"relu\")(layer)\n",
    "    layer = Dense(len(actions),activation=\"softmax\")(layer)\n",
    "\n",
    "    model = Model(inputs=input_layer,outputs=layer)\n",
    "    model.compile(optimizer='Adam', loss='sparse_categorical_crossentropy', metrics=['accuracy'])\n",
    "    \n",
    "    return model\n",
    "\n",
    "\n",
    "def V3():\n",
    "    input_layer = Input(shape=(16,62))\n",
    "    layer = LSTM(64,return_sequences=True,activation=\"relu\")(input_layer)\n",
    "    layer = LSTM(256,return_sequences=True,activation=\"relu\")(layer)\n",
    "    layer = LSTM(96,return_sequences=False,activation=\"relu\")(layer)\n",
    "    layer = Dense(64,activation=\"relu\")(layer)\n",
    "    layer = Dense(len(actions),activation=\"softmax\")(layer)\n",
    "\n",
    "    \n",
    "    model = Model(inputs=input_layer,outputs=layer)\n",
    "    model.compile(optimizer=\"Adam\", loss='sparse_categorical_crossentropy', metrics=['accuracy'])\n",
    "    \n",
    "    return model\n",
    "\n",
    "\n",
    "\n",
    "def V4():\n",
    "    input_layer = Input(shape=(16,62))\n",
    "    layer = LSTM(64,return_sequences=True,activation=\"relu\")(input_layer)\n",
    "    layer = LSTM(512,return_sequences=True,activation=\"relu\")(layer)\n",
    "    layer = Dropout(0.5)(layer)\n",
    "    layer = LSTM(128,return_sequences=False,activation=\"relu\")(layer)\n",
    "    layer = Dense(64,activation=\"relu\")(layer)\n",
    "    layer = Dense(len(actions),activation=\"softmax\")(layer)\n",
    "\n",
    "    \n",
    "    model = Model(inputs=input_layer,outputs=layer)\n",
    "    model.compile(optimizer=\"Adam\", loss='sparse_categorical_crossentropy', metrics=['accuracy'])\n",
    "    \n",
    "    return model\n",
    "\n",
    "    \n",
    "    return model\n",
    "\n",
    "\n",
    "def V5():\n",
    "    input_layer = Input(shape=(16,62))\n",
    "    layer = LSTM(64,return_sequences=True,activation=\"relu\")(input_layer)\n",
    "    layer = LSTM(512,return_sequences=True,activation=\"relu\")(layer)\n",
    "    layer = LSTM(128,return_sequences=False,activation=\"relu\")(layer)\n",
    "    layer = Dense(64,activation=\"relu\")(layer)\n",
    "    layer = Dense(len(actions),activation=\"softmax\")(layer)\n",
    "\n",
    "    \n",
    "    model = Model(inputs=input_layer,outputs=layer)\n",
    "    model.compile(optimizer=\"Adam\", loss='sparse_categorical_crossentropy', metrics=['accuracy'])\n",
    "    \n",
    "    return model\n",
    "\n",
    "    \n",
    "    return model\n",
    "\n",
    "\n",
    "\n",
    "model = V1()\n",
    "model.summary()"
   ]
  },
  {
   "cell_type": "code",
   "execution_count": 6,
   "id": "f30a6993",
   "metadata": {},
   "outputs": [],
   "source": [
    "model.load_weights(os.path.join(best_model_file_name))"
   ]
  },
  {
   "cell_type": "markdown",
   "id": "7743e09c",
   "metadata": {},
   "source": [
    "# 5 - test in real time"
   ]
  },
  {
   "cell_type": "code",
   "execution_count": 7,
   "id": "5464f37a",
   "metadata": {},
   "outputs": [],
   "source": [
    "import numpy as np\n",
    "import cv2 \n",
    "import os\n",
    "import mediapipe as mp\n",
    "import tensorflow as tf \n",
    "from tensorflow import keras\n",
    "import matplotlib.pyplot as plt\n",
    "import time\n",
    "import pandas as pd"
   ]
  },
  {
   "cell_type": "code",
   "execution_count": 8,
   "id": "ad45443f",
   "metadata": {},
   "outputs": [],
   "source": [
    "\n",
    "def view_probability(res, actions, image):\n",
    "    #output_frame = input_frame.copy()\n",
    "    \n",
    "    output_frame = image\n",
    "    height,width,_ = image.shape\n",
    "    \n",
    "    if(type(res)==list or type(res)==np.ndarray):\n",
    "        max_prob_index = np.argmax(res)\n",
    "        max_prob = res[max_prob_index]\n",
    "        text = f'{actions[max_prob_index]} - {max_prob:.3f}'\n",
    "    else:\n",
    "        text = \"not signing\"\n",
    "    \n",
    "    \n",
    "    cv2.rectangle(output_frame, (0,0), (width, 40), (0,255,0), -1)\n",
    "    cv2.putText(output_frame, text, (0, 30), cv2.FONT_HERSHEY_SIMPLEX, 1, (255,255,255), 2, cv2.LINE_AA)\n",
    "        \n",
    "    return output_frame\n",
    "\n",
    "\n",
    "\n",
    "def view_sentence(sentence,image):\n",
    "    # output_frame = image.copy()\n",
    "    output_frame = image\n",
    "    height,width,_ = image.shape\n",
    "    cv2.rectangle(output_frame, (0,height-40), (width, height), (255, 0, 0), -1)\n",
    "    cv2.putText(output_frame, ' '.join(sentence), (10,height-10), \n",
    "                   cv2.FONT_HERSHEY_SIMPLEX, 1, (255, 255, 255), 2, cv2.LINE_AA)\n",
    "    return output_frame\n",
    "\n",
    "\n",
    "def compare_frames(prev_frame,current_frame,threshold):\n",
    "    return True\n",
    "    if(type(prev_frame) == np.ndarray ):\n",
    "        diff = cv2.absdiff(prev_frame, current_frame)\n",
    "        s = diff.sum()\n",
    "        if(s > threshold):\n",
    "            return True\n",
    "        \n",
    "    return False\n",
    "    \n",
    "def evaluate_list_comparisons(s):\n",
    "    return True\n",
    "    if(sum(s)>=2):\n",
    "        return True\n",
    "    return False"
   ]
  },
  {
   "cell_type": "code",
   "execution_count": 9,
   "id": "a888db6b",
   "metadata": {
    "scrolled": false
   },
   "outputs": [
    {
     "name": "stderr",
     "output_type": "stream",
     "text": [
      "INFO: Created TensorFlow Lite XNNPACK delegate for CPU.\n"
     ]
    }
   ],
   "source": [
    "# 1. New detection variables\n",
    "sequence = [np.zeros(62)]\n",
    "sentence = []\n",
    "predictions = []\n",
    "threshold = 0.5\n",
    "n_frames = 16\n",
    "\n",
    "\n",
    "def fill_keypoints(array):\n",
    "    output = array.copy()\n",
    "    for i in range(2,len(output)):\n",
    "        current_frame = output[i]\n",
    "        prev_prev_frame = output[i-2]\n",
    "        prev_frame = output[i-1]\n",
    "        for index,num in enumerate(current_frame):\n",
    "            if num==0:\n",
    "                current_frame[index] = prev_frame[index]*2 - prev_prev_frame[index]\n",
    "                \n",
    "    return output\n",
    "                \n",
    "\n",
    "res = None\n",
    "\n",
    "cap = cv2.VideoCapture(0)\n",
    "# Set mediapipe model \n",
    "\n",
    "last_comparisons = []\n",
    "holistic = mp_holistic.Holistic(min_detection_confidence=0.5, min_tracking_confidence=0.5)\n",
    "prev_frame = None\n",
    "while cap.isOpened():\n",
    "\n",
    "    ret, frame = cap.read()\n",
    "    if(not ret):break\n",
    "        \n",
    "    frame = cv2.resize(frame,(512,512))\n",
    "        \n",
    "        \n",
    "    comparison_result = compare_frames(prev_frame,frame,4000000)\n",
    "    prev_frame = frame\n",
    "    \n",
    "    last_comparisons.append(int(comparison_result))\n",
    "    last_comparisons = last_comparisons[-2:]\n",
    "    \n",
    "    \n",
    "    \n",
    "\n",
    "    image, results = mediapipe_detection(frame, holistic)\n",
    "    # draw_updated_styled(image, results)\n",
    "\n",
    "    # 2. Prediction logic\n",
    "    \n",
    "    \n",
    "    if(evaluate_list_comparisons(last_comparisons)):\n",
    "        keypoints = extract_keypoints(results)\n",
    "#         for ind,n in enumerate(keypoints):\n",
    "#             if keypoints[ind]==0:\n",
    "#                 keypoints[ind] = sequence[-1][ind]\n",
    "        \n",
    "        sequence.append(keypoints)\n",
    "        sequence = sequence[-n_frames:]\n",
    "        sequence = fill_keypoints(sequence)\n",
    "        \n",
    "        draw_landmark_from_array(image,keypoints)\n",
    "\n",
    "        if len(sequence) == n_frames:\n",
    "            res = model.predict(np.expand_dims(sequence, axis=0))[0]\n",
    "            predictions.append(np.argmax(res))\n",
    "\n",
    "\n",
    "        #3. Viz logic\n",
    "            if np.unique(predictions[-2:])[0]==np.argmax(res): \n",
    "                if res[np.argmax(res)] > threshold: \n",
    "\n",
    "                    if len(sentence) > 0: \n",
    "                        if actions[np.argmax(res)] != sentence[-1]:\n",
    "                            sentence.append(actions[np.argmax(res)])\n",
    "                    else:\n",
    "                        sentence.append(actions[np.argmax(res)])\n",
    "\n",
    "            if len(sentence) > 5: \n",
    "                sentence = sentence[-5:]\n",
    "    else:\n",
    "        res = None\n",
    "\n",
    "\n",
    "    image = cv2.resize(image,(840,640))\n",
    "    \n",
    "    image = view_probability(res, actions, image)\n",
    "    image = view_sentence(sentence,image)\n",
    "    \n",
    "\n",
    "    \n",
    "    cv2.imshow('OpenCV Feed', image)\n",
    "\n",
    "    # Break\n",
    "    if cv2.waitKey(10) & 0xFF == ord('q'):\n",
    "        break\n",
    "cap.release()\n",
    "cv2.destroyAllWindows()"
   ]
  },
  {
   "cell_type": "code",
   "execution_count": 24,
   "id": "ca692265",
   "metadata": {},
   "outputs": [
    {
     "data": {
      "text/plain": [
       "(640, 840, 3)"
      ]
     },
     "execution_count": 24,
     "metadata": {},
     "output_type": "execute_result"
    }
   ],
   "source": []
  },
  {
   "cell_type": "code",
   "execution_count": 12,
   "id": "7429ceef",
   "metadata": {},
   "outputs": [],
   "source": [
    "cap.release()"
   ]
  },
  {
   "cell_type": "code",
   "execution_count": 13,
   "id": "d4683df0",
   "metadata": {},
   "outputs": [],
   "source": [
    "cv2.destroyAllWindows()"
   ]
  },
  {
   "cell_type": "code",
   "execution_count": 26,
   "id": "6069613d",
   "metadata": {},
   "outputs": [],
   "source": [
    "old = np.array([5,2,2,2,2,2])\n",
    "test = np.array([5,2,3,0,5,1])\n"
   ]
  },
  {
   "cell_type": "code",
   "execution_count": 30,
   "id": "a58720dc",
   "metadata": {},
   "outputs": [
    {
     "data": {
      "text/plain": [
       "array([5, 2, 3, 0, 5, 1])"
      ]
     },
     "execution_count": 30,
     "metadata": {},
     "output_type": "execute_result"
    }
   ],
   "source": [
    "test&test"
   ]
  },
  {
   "cell_type": "code",
   "execution_count": 32,
   "id": "ec6ae2c2",
   "metadata": {},
   "outputs": [],
   "source": [
    "for ind,n in enumerate(test):\n",
    "    if test[ind]==0:test[ind] = old[ind]"
   ]
  },
  {
   "cell_type": "code",
   "execution_count": 33,
   "id": "3b283ad9",
   "metadata": {},
   "outputs": [
    {
     "data": {
      "text/plain": [
       "array([5, 2, 3, 2, 5, 1])"
      ]
     },
     "execution_count": 33,
     "metadata": {},
     "output_type": "execute_result"
    }
   ],
   "source": [
    "test"
   ]
  },
  {
   "cell_type": "code",
   "execution_count": null,
   "id": "ec4d56b6",
   "metadata": {},
   "outputs": [],
   "source": []
  }
 ],
 "metadata": {
  "kernelspec": {
   "display_name": "Python 3 (ipykernel)",
   "language": "python",
   "name": "python3"
  },
  "language_info": {
   "codemirror_mode": {
    "name": "ipython",
    "version": 3
   },
   "file_extension": ".py",
   "mimetype": "text/x-python",
   "name": "python",
   "nbconvert_exporter": "python",
   "pygments_lexer": "ipython3",
   "version": "3.8.10"
  }
 },
 "nbformat": 4,
 "nbformat_minor": 5
}
