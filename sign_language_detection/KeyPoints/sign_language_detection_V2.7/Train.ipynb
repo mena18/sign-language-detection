{
 "cells": [
  {
   "cell_type": "markdown",
   "metadata": {
    "id": "hRDaeItWCU_g"
   },
   "source": [
    "# training on existing Data"
   ]
  },
  {
   "cell_type": "code",
   "execution_count": 1,
   "metadata": {
    "id": "37Mp0HP7BPza"
   },
   "outputs": [
    {
     "name": "stderr",
     "output_type": "stream",
     "text": [
      "2022-04-01 19:46:05.735730: W tensorflow/stream_executor/platform/default/dso_loader.cc:64] Could not load dynamic library 'libcudart.so.11.0'; dlerror: libcudart.so.11.0: cannot open shared object file: No such file or directory; LD_LIBRARY_PATH: /home/mina/.local/lib/python3.8/site-packages/cv2/../../lib64:\n",
      "2022-04-01 19:46:05.735747: I tensorflow/stream_executor/cuda/cudart_stub.cc:29] Ignore above cudart dlerror if you do not have a GPU set up on your machine.\n"
     ]
    }
   ],
   "source": [
    "import numpy as np\n",
    "import cv2 \n",
    "import os\n",
    "import tensorflow as tf \n",
    "from tensorflow import keras\n",
    "import matplotlib.pyplot as plt\n",
    "import time\n",
    "import pandas as pd"
   ]
  },
  {
   "cell_type": "code",
   "execution_count": 2,
   "metadata": {
    "id": "blVDg26cCOVh"
   },
   "outputs": [],
   "source": [
    "actions = ['one','you','teacher','girl','tomorrow','mom','look','crazy','walk','agree']"
   ]
  },
  {
   "cell_type": "code",
   "execution_count": 3,
   "metadata": {
    "colab": {
     "base_uri": "https://localhost:8080/"
    },
    "id": "avylHVOyClSC",
    "outputId": "99551649-9eec-492a-85fa-9c0c274cace3"
   },
   "outputs": [
    {
     "data": {
      "text/plain": [
       "['one',\n",
       " 'you',\n",
       " 'teacher',\n",
       " 'girl',\n",
       " 'tomorrow',\n",
       " 'mom',\n",
       " 'look',\n",
       " 'crazy',\n",
       " 'walk',\n",
       " 'agree']"
      ]
     },
     "execution_count": 3,
     "metadata": {},
     "output_type": "execute_result"
    }
   ],
   "source": [
    "actions"
   ]
  },
  {
   "cell_type": "code",
   "execution_count": 4,
   "metadata": {
    "id": "KR_zxUuACl1b"
   },
   "outputs": [
    {
     "name": "stdout",
     "output_type": "stream",
     "text": [
      "(5154, 16, 62) (5154,) (99, 16, 62) (99,)\n"
     ]
    }
   ],
   "source": [
    "train_data = np.concatenate([\n",
    "    np.load(os.path.join(\"key_points\",'train','0.npy')),\n",
    "    np.load(os.path.join(\"key_points\",'train','1.npy')),\n",
    "    np.load(os.path.join(\"key_points\",'train','2.npy')),\n",
    "    np.load(os.path.join(\"key_points\",'train','3.npy')),\n",
    "    np.load(os.path.join(\"key_points\",'train','4.npy')),\n",
    "    np.load(os.path.join(\"key_points\",'train','5.npy')),\n",
    "])\n",
    "\n",
    "train_labels = np.concatenate([\n",
    "    np.load(os.path.join(\"key_points\",'train','labels.npy')),\n",
    "    np.load(os.path.join(\"key_points\",'train','labels.npy')),\n",
    "    np.load(os.path.join(\"key_points\",'train','labels.npy')),\n",
    "    np.load(os.path.join(\"key_points\",'train','labels.npy')),\n",
    "    np.load(os.path.join(\"key_points\",'train','labels.npy')),\n",
    "    np.load(os.path.join(\"key_points\",'train','labels.npy')),\n",
    "])\n",
    "\n",
    "\n",
    "test_data   = np.load(os.path.join(\"key_points\",\"test\",'data.npy')) \n",
    "test_labels = np.load(os.path.join(\"key_points\",\"test\",'labels.npy'))  \n",
    "\n",
    "\n",
    "\n",
    "print(\n",
    "train_data.shape,\n",
    "    train_labels.shape,\n",
    "    test_data.shape,\n",
    "    test_labels.shape\n",
    "    \n",
    ")"
   ]
  },
  {
   "cell_type": "code",
   "execution_count": 5,
   "metadata": {
    "id": "l7Vf2vktC3uD"
   },
   "outputs": [
    {
     "name": "stdout",
     "output_type": "stream",
     "text": [
      "(5154, 16, 62) (5154,) (99, 16, 62) (99,)\n"
     ]
    }
   ],
   "source": [
    "perm = np.random.permutation(len(train_data))\n",
    "\n",
    "train_X = train_data[perm]\n",
    "train_Y = train_labels[perm]\n",
    "test_X = test_data\n",
    "test_Y = test_labels\n",
    "\n",
    "print(\n",
    "train_X.shape,\n",
    "train_Y.shape,\n",
    "test_X.shape,\n",
    "test_Y.shape,\n",
    ")\n"
   ]
  },
  {
   "cell_type": "code",
   "execution_count": 6,
   "metadata": {
    "id": "B7uto9CtC__i"
   },
   "outputs": [],
   "source": [
    "from tensorflow.keras.models import Sequential\n",
    "from tensorflow.keras.layers import LSTM, Dense,Input,Dropout\n",
    "from tensorflow.keras.models import Model\n",
    "from tensorflow.keras.callbacks import TensorBoard,ModelCheckpoint,EarlyStopping\n",
    "\n",
    "# v1 ->95% training , 88% validation,84% test\n",
    "# v1 =  os.path.join(\"final_train_weights\",\"first_model_V1.h5\")\n",
    "best_model_file_name = os.path.join(\"weights\",\"pretrain2.h5\")\n",
    "\n",
    "\n",
    "checkpoint = ModelCheckpoint(os.path.join(best_model_file_name), monitor='loss', verbose=0,\n",
    "    save_best_only=True, mode='auto', save_freq=1)\n",
    "earlyStopping = EarlyStopping(monitor='loss', patience=20)"
   ]
  },
  {
   "cell_type": "code",
   "execution_count": 7,
   "metadata": {
    "id": "DRiUwVxqDADk"
   },
   "outputs": [
    {
     "name": "stdout",
     "output_type": "stream",
     "text": [
      "Model: \"model\"\n",
      "_________________________________________________________________\n",
      " Layer (type)                Output Shape              Param #   \n",
      "=================================================================\n",
      " input_1 (InputLayer)        [(None, 16, 62)]          0         \n",
      "                                                                 \n",
      " lstm (LSTM)                 (None, 16, 64)            32512     \n",
      "                                                                 \n",
      " lstm_1 (LSTM)               (None, 16, 128)           98816     \n",
      "                                                                 \n",
      " lstm_2 (LSTM)               (None, 96)                86400     \n",
      "                                                                 \n",
      " dense (Dense)               (None, 64)                6208      \n",
      "                                                                 \n",
      " dense_1 (Dense)             (None, 10)                650       \n",
      "                                                                 \n",
      "=================================================================\n",
      "Total params: 224,586\n",
      "Trainable params: 224,586\n",
      "Non-trainable params: 0\n",
      "_________________________________________________________________\n"
     ]
    },
    {
     "name": "stderr",
     "output_type": "stream",
     "text": [
      "2022-04-01 19:46:28.959756: I tensorflow/stream_executor/cuda/cuda_gpu_executor.cc:939] successful NUMA node read from SysFS had negative value (-1), but there must be at least one NUMA node, so returning NUMA node zero\n",
      "2022-04-01 19:46:28.960069: W tensorflow/stream_executor/platform/default/dso_loader.cc:64] Could not load dynamic library 'libcudart.so.11.0'; dlerror: libcudart.so.11.0: cannot open shared object file: No such file or directory; LD_LIBRARY_PATH: /home/mina/.local/lib/python3.8/site-packages/cv2/../../lib64:\n",
      "2022-04-01 19:46:28.960109: W tensorflow/stream_executor/platform/default/dso_loader.cc:64] Could not load dynamic library 'libcublas.so.11'; dlerror: libcublas.so.11: cannot open shared object file: No such file or directory; LD_LIBRARY_PATH: /home/mina/.local/lib/python3.8/site-packages/cv2/../../lib64:\n",
      "2022-04-01 19:46:28.960142: W tensorflow/stream_executor/platform/default/dso_loader.cc:64] Could not load dynamic library 'libcublasLt.so.11'; dlerror: libcublasLt.so.11: cannot open shared object file: No such file or directory; LD_LIBRARY_PATH: /home/mina/.local/lib/python3.8/site-packages/cv2/../../lib64:\n",
      "2022-04-01 19:46:28.960174: W tensorflow/stream_executor/platform/default/dso_loader.cc:64] Could not load dynamic library 'libcufft.so.10'; dlerror: libcufft.so.10: cannot open shared object file: No such file or directory; LD_LIBRARY_PATH: /home/mina/.local/lib/python3.8/site-packages/cv2/../../lib64:\n",
      "2022-04-01 19:46:28.960207: W tensorflow/stream_executor/platform/default/dso_loader.cc:64] Could not load dynamic library 'libcurand.so.10'; dlerror: libcurand.so.10: cannot open shared object file: No such file or directory; LD_LIBRARY_PATH: /home/mina/.local/lib/python3.8/site-packages/cv2/../../lib64:\n",
      "2022-04-01 19:46:28.960236: W tensorflow/stream_executor/platform/default/dso_loader.cc:64] Could not load dynamic library 'libcusolver.so.11'; dlerror: libcusolver.so.11: cannot open shared object file: No such file or directory; LD_LIBRARY_PATH: /home/mina/.local/lib/python3.8/site-packages/cv2/../../lib64:\n",
      "2022-04-01 19:46:28.960266: W tensorflow/stream_executor/platform/default/dso_loader.cc:64] Could not load dynamic library 'libcusparse.so.11'; dlerror: libcusparse.so.11: cannot open shared object file: No such file or directory; LD_LIBRARY_PATH: /home/mina/.local/lib/python3.8/site-packages/cv2/../../lib64:\n",
      "2022-04-01 19:46:28.960361: W tensorflow/core/common_runtime/gpu/gpu_device.cc:1850] Cannot dlopen some GPU libraries. Please make sure the missing libraries mentioned above are installed properly if you would like to use GPU. Follow the guide at https://www.tensorflow.org/install/gpu for how to download and setup the required libraries for your platform.\n",
      "Skipping registering GPU devices...\n",
      "2022-04-01 19:46:28.960750: I tensorflow/core/platform/cpu_feature_guard.cc:151] This TensorFlow binary is optimized with oneAPI Deep Neural Network Library (oneDNN) to use the following CPU instructions in performance-critical operations:  AVX2 FMA\n",
      "To enable them in other operations, rebuild TensorFlow with the appropriate compiler flags.\n"
     ]
    }
   ],
   "source": [
    "def first_model():\n",
    "    input_layer = Input(shape=(20,62))\n",
    "    layer = LSTM(64,return_sequences=True,activation=\"relu\")(input_layer)\n",
    "    layer = LSTM(128,return_sequences=True,activation=\"relu\")(layer)\n",
    "    layer = LSTM(256,return_sequences=True,activation=\"relu\")(layer)\n",
    "    layer = LSTM(128,return_sequences=True,activation=\"relu\")(layer)\n",
    "    layer = LSTM(64,return_sequences=False,activation=\"relu\")(layer)\n",
    "    layer = Dense(64,activation=\"relu\")(layer)\n",
    "    layer = Dense(len(actions),activation=\"softmax\")(layer)\n",
    "\n",
    "    model = Model(inputs=input_layer,outputs=layer)\n",
    "    model.compile(optimizer='Adam', loss='sparse_categorical_crossentropy', metrics=['accuracy'])\n",
    "    \n",
    "    return model\n",
    "\n",
    "\n",
    "def second_model():\n",
    "    input_layer = Input(shape=(20,62))\n",
    "    layer = LSTM(64,return_sequences=True,activation=\"relu\")(input_layer)\n",
    "    layer = LSTM(128,return_sequences=True,activation=\"relu\")(layer)\n",
    "    layer = Dropout(0.5)(layer)\n",
    "    layer = LSTM(256,return_sequences=True,activation=\"relu\")(layer)\n",
    "    layer = Dropout(0.5)(layer)\n",
    "    layer = LSTM(128,return_sequences=True,activation=\"relu\")(layer)\n",
    "    layer = Dropout(0.5)(layer)\n",
    "    layer = LSTM(64,return_sequences=False,activation=\"relu\")(layer)\n",
    "    layer = Dense(64,activation=\"relu\")(layer)\n",
    "    layer = Dense(len(actions),activation=\"softmax\")(layer)\n",
    "\n",
    "    model = Model(inputs=input_layer,outputs=layer)\n",
    "    model.compile(optimizer='Adam', loss='sparse_categorical_crossentropy', metrics=['accuracy'])\n",
    "    \n",
    "    \n",
    "    return model\n",
    "\n",
    "def third_model():\n",
    "    input_layer = Input(shape=(16,62))\n",
    "    layer = LSTM(64,return_sequences=True,activation=\"relu\")(input_layer)\n",
    "    layer = LSTM(128,return_sequences=True,activation=\"relu\")(layer)\n",
    "    layer = LSTM(96,return_sequences=False,activation=\"relu\")(layer)\n",
    "    layer = Dense(64,activation=\"relu\")(layer)\n",
    "    layer = Dense(len(actions),activation=\"softmax\")(layer)\n",
    "\n",
    "#     optimizer = tf.keras.optimizers.Nadam(learning_rate=0.002,\n",
    "#                              beta_1=0.9,\n",
    "#                              beta_2=0.999, \n",
    "#                              epsilon=1e-08,\n",
    "#                              schedule_decay=0.004)\n",
    "    \n",
    "    model = Model(inputs=input_layer,outputs=layer)\n",
    "    model.compile(optimizer=\"Adam\", loss='sparse_categorical_crossentropy', metrics=['accuracy'])\n",
    "    \n",
    "    return model\n",
    "\n",
    "\n",
    "model = third_model()\n",
    "model.summary()"
   ]
  },
  {
   "cell_type": "code",
   "execution_count": 9,
   "metadata": {},
   "outputs": [],
   "source": [
    "model.load_weights(os.path.join(\"weights\",\"V1.h5\"))"
   ]
  },
  {
   "cell_type": "code",
   "execution_count": 10,
   "metadata": {
    "id": "USlhUnH3DAHb"
   },
   "outputs": [
    {
     "name": "stdout",
     "output_type": "stream",
     "text": [
      "Epoch 1/100\n",
      "323/323 [==============================] - 12s 33ms/step - loss: 1.4766 - accuracy: 0.4992 - val_loss: 1.3158 - val_accuracy: 0.4949\n",
      "Epoch 2/100\n",
      "323/323 [==============================] - 4s 12ms/step - loss: 0.9544 - accuracy: 0.6467 - val_loss: 1.0132 - val_accuracy: 0.6364\n",
      "Epoch 3/100\n",
      "323/323 [==============================] - 5s 16ms/step - loss: 0.7234 - accuracy: 0.7247 - val_loss: 0.9186 - val_accuracy: 0.6667\n",
      "Epoch 4/100\n",
      "323/323 [==============================] - 4s 12ms/step - loss: 0.6022 - accuracy: 0.7646 - val_loss: 1.2234 - val_accuracy: 0.6667\n",
      "Epoch 5/100\n",
      "323/323 [==============================] - 4s 11ms/step - loss: 0.4990 - accuracy: 0.8120 - val_loss: 0.9995 - val_accuracy: 0.6869\n",
      "Epoch 6/100\n",
      "323/323 [==============================] - 4s 11ms/step - loss: 0.4817 - accuracy: 0.8273 - val_loss: 1.1834 - val_accuracy: 0.6768\n",
      "Epoch 7/100\n",
      "323/323 [==============================] - 4s 12ms/step - loss: 0.3501 - accuracy: 0.8708 - val_loss: 1.5076 - val_accuracy: 0.7172\n",
      "Epoch 8/100\n",
      "323/323 [==============================] - 4s 12ms/step - loss: 0.3287 - accuracy: 0.8873 - val_loss: 1.2077 - val_accuracy: 0.6667\n",
      "Epoch 9/100\n",
      "323/323 [==============================] - 4s 12ms/step - loss: 0.2876 - accuracy: 0.8997 - val_loss: 1.5440 - val_accuracy: 0.6869\n",
      "Epoch 10/100\n",
      "323/323 [==============================] - 4s 12ms/step - loss: 0.2516 - accuracy: 0.9125 - val_loss: 1.4775 - val_accuracy: 0.7374\n",
      "Epoch 11/100\n",
      "323/323 [==============================] - 4s 12ms/step - loss: 0.2106 - accuracy: 0.9257 - val_loss: 1.2543 - val_accuracy: 0.7273\n",
      "Epoch 12/100\n",
      "323/323 [==============================] - 4s 12ms/step - loss: 0.2306 - accuracy: 0.9199 - val_loss: 1.7219 - val_accuracy: 0.7273\n",
      "Epoch 13/100\n",
      "323/323 [==============================] - 4s 12ms/step - loss: 0.2010 - accuracy: 0.9269 - val_loss: 1.4460 - val_accuracy: 0.7071\n",
      "Epoch 14/100\n",
      "323/323 [==============================] - 4s 13ms/step - loss: 0.1361 - accuracy: 0.9519 - val_loss: 1.5967 - val_accuracy: 0.6667\n",
      "Epoch 15/100\n",
      "323/323 [==============================] - 4s 11ms/step - loss: 0.2665 - accuracy: 0.9148 - val_loss: 1.3155 - val_accuracy: 0.7576\n",
      "Epoch 16/100\n",
      "323/323 [==============================] - 4s 12ms/step - loss: 0.2161 - accuracy: 0.9300 - val_loss: 1.6714 - val_accuracy: 0.6465\n",
      "Epoch 17/100\n",
      "323/323 [==============================] - 4s 12ms/step - loss: 0.1696 - accuracy: 0.9432 - val_loss: 1.3187 - val_accuracy: 0.7677\n",
      "Epoch 18/100\n",
      "323/323 [==============================] - 4s 12ms/step - loss: 0.1825 - accuracy: 0.9381 - val_loss: 2.0243 - val_accuracy: 0.6566\n",
      "Epoch 19/100\n",
      "323/323 [==============================] - 4s 12ms/step - loss: 0.1343 - accuracy: 0.9565 - val_loss: 1.4894 - val_accuracy: 0.7980\n",
      "Epoch 20/100\n",
      "323/323 [==============================] - 4s 12ms/step - loss: 0.1290 - accuracy: 0.9560 - val_loss: 2.0360 - val_accuracy: 0.7273\n",
      "Epoch 21/100\n",
      "323/323 [==============================] - 4s 12ms/step - loss: 0.2009 - accuracy: 0.9397 - val_loss: 1.5679 - val_accuracy: 0.6869\n",
      "Epoch 22/100\n",
      "323/323 [==============================] - 4s 12ms/step - loss: 0.1121 - accuracy: 0.9596 - val_loss: 2.0796 - val_accuracy: 0.7273\n",
      "Epoch 23/100\n",
      "323/323 [==============================] - 4s 12ms/step - loss: 0.1296 - accuracy: 0.9562 - val_loss: 2.1959 - val_accuracy: 0.7273\n",
      "Epoch 24/100\n",
      "323/323 [==============================] - 4s 12ms/step - loss: 0.1087 - accuracy: 0.9645 - val_loss: 2.9895 - val_accuracy: 0.7576\n",
      "Epoch 25/100\n",
      "323/323 [==============================] - 4s 12ms/step - loss: 0.1391 - accuracy: 0.9527 - val_loss: 2.0762 - val_accuracy: 0.7778\n",
      "Epoch 26/100\n",
      "323/323 [==============================] - 4s 12ms/step - loss: 0.0961 - accuracy: 0.9682 - val_loss: 2.1425 - val_accuracy: 0.7475\n",
      "Epoch 27/100\n",
      "323/323 [==============================] - 4s 12ms/step - loss: 0.1162 - accuracy: 0.9620 - val_loss: 2.4866 - val_accuracy: 0.7677\n",
      "Epoch 28/100\n",
      "323/323 [==============================] - 4s 12ms/step - loss: 0.0679 - accuracy: 0.9763 - val_loss: 2.7655 - val_accuracy: 0.6768\n",
      "Epoch 29/100\n",
      "323/323 [==============================] - 4s 12ms/step - loss: 0.1263 - accuracy: 0.9575 - val_loss: 2.7203 - val_accuracy: 0.7677\n",
      "Epoch 30/100\n",
      "323/323 [==============================] - 4s 13ms/step - loss: 0.1154 - accuracy: 0.9622 - val_loss: 5.0591 - val_accuracy: 0.7576\n",
      "Epoch 31/100\n",
      "323/323 [==============================] - 4s 13ms/step - loss: 0.0892 - accuracy: 0.9717 - val_loss: 5.6856 - val_accuracy: 0.7273\n",
      "Epoch 32/100\n",
      "323/323 [==============================] - 4s 12ms/step - loss: 0.0733 - accuracy: 0.9723 - val_loss: 5.2094 - val_accuracy: 0.7172\n",
      "Epoch 33/100\n",
      "323/323 [==============================] - 4s 12ms/step - loss: 0.3591 - accuracy: 0.9092 - val_loss: 1.9871 - val_accuracy: 0.7879\n",
      "Epoch 34/100\n",
      "323/323 [==============================] - 4s 12ms/step - loss: 0.1123 - accuracy: 0.9620 - val_loss: 2.4261 - val_accuracy: 0.7879\n",
      "Epoch 35/100\n",
      "323/323 [==============================] - 4s 12ms/step - loss: 0.0597 - accuracy: 0.9806 - val_loss: 3.6757 - val_accuracy: 0.7778\n",
      "Epoch 36/100\n",
      "323/323 [==============================] - 4s 12ms/step - loss: 0.1420 - accuracy: 0.9558 - val_loss: 2.9261 - val_accuracy: 0.7879\n",
      "Epoch 37/100\n",
      "323/323 [==============================] - 4s 12ms/step - loss: 0.0368 - accuracy: 0.9891 - val_loss: 3.4354 - val_accuracy: 0.7677\n",
      "Epoch 38/100\n",
      "323/323 [==============================] - 4s 11ms/step - loss: 0.1341 - accuracy: 0.9606 - val_loss: 3.3867 - val_accuracy: 0.8182\n",
      "Epoch 39/100\n",
      "323/323 [==============================] - 4s 12ms/step - loss: 0.1032 - accuracy: 0.9680 - val_loss: 2.0425 - val_accuracy: 0.7677\n",
      "Epoch 40/100\n",
      "323/323 [==============================] - 4s 12ms/step - loss: 0.9030 - accuracy: 0.7559 - val_loss: 19.8528 - val_accuracy: 0.5657\n",
      "Epoch 41/100\n",
      "323/323 [==============================] - 4s 12ms/step - loss: 1.1788 - accuracy: 0.5873 - val_loss: 1.3317 - val_accuracy: 0.6263\n",
      "Epoch 42/100\n",
      "323/323 [==============================] - 4s 13ms/step - loss: 0.7000 - accuracy: 0.7449 - val_loss: 1.6921 - val_accuracy: 0.7475\n",
      "Epoch 43/100\n",
      "323/323 [==============================] - 4s 12ms/step - loss: 0.3323 - accuracy: 0.8822 - val_loss: 3.2865 - val_accuracy: 0.7374\n",
      "Epoch 44/100\n",
      "323/323 [==============================] - 4s 12ms/step - loss: 0.1786 - accuracy: 0.9402 - val_loss: 2.2259 - val_accuracy: 0.7475\n",
      "Epoch 45/100\n",
      "323/323 [==============================] - 4s 13ms/step - loss: 0.1695 - accuracy: 0.9414 - val_loss: 2.8679 - val_accuracy: 0.7374\n",
      "Epoch 46/100\n",
      "323/323 [==============================] - 4s 13ms/step - loss: 0.1241 - accuracy: 0.9614 - val_loss: 3.4125 - val_accuracy: 0.7576\n",
      "Epoch 47/100\n",
      "323/323 [==============================] - 4s 13ms/step - loss: 0.0803 - accuracy: 0.9759 - val_loss: 3.3281 - val_accuracy: 0.7475\n",
      "Epoch 48/100\n",
      "323/323 [==============================] - 4s 13ms/step - loss: 0.1302 - accuracy: 0.9593 - val_loss: 2.7959 - val_accuracy: 0.7576\n",
      "Epoch 49/100\n",
      "323/323 [==============================] - 4s 13ms/step - loss: 0.1150 - accuracy: 0.9585 - val_loss: 3.1834 - val_accuracy: 0.7879\n",
      "Epoch 50/100\n",
      "323/323 [==============================] - 4s 12ms/step - loss: 0.0910 - accuracy: 0.9730 - val_loss: 3.6109 - val_accuracy: 0.7576\n",
      "Epoch 51/100\n",
      "323/323 [==============================] - 4s 12ms/step - loss: 0.0788 - accuracy: 0.9724 - val_loss: 3.5465 - val_accuracy: 0.7475\n",
      "Epoch 52/100\n",
      "323/323 [==============================] - 4s 12ms/step - loss: 0.1532 - accuracy: 0.9589 - val_loss: 2.1622 - val_accuracy: 0.7980\n",
      "Epoch 53/100\n",
      "323/323 [==============================] - 4s 13ms/step - loss: 0.0502 - accuracy: 0.9853 - val_loss: 2.0556 - val_accuracy: 0.7374\n",
      "Epoch 54/100\n",
      "323/323 [==============================] - 4s 13ms/step - loss: 0.1319 - accuracy: 0.9593 - val_loss: 1.7003 - val_accuracy: 0.7475\n",
      "Epoch 55/100\n",
      "323/323 [==============================] - 4s 12ms/step - loss: 0.1532 - accuracy: 0.9560 - val_loss: 1.7982 - val_accuracy: 0.7980\n",
      "Epoch 56/100\n",
      "323/323 [==============================] - 4s 12ms/step - loss: 0.0921 - accuracy: 0.9693 - val_loss: 1.9542 - val_accuracy: 0.8081\n",
      "Epoch 57/100\n"
     ]
    },
    {
     "name": "stdout",
     "output_type": "stream",
     "text": [
      "323/323 [==============================] - 4s 13ms/step - loss: 0.0081 - accuracy: 0.9979 - val_loss: 2.1110 - val_accuracy: 0.7677\n",
      "Epoch 58/100\n",
      "323/323 [==============================] - 4s 12ms/step - loss: 0.1037 - accuracy: 0.9682 - val_loss: 1.8127 - val_accuracy: 0.7980\n",
      "Epoch 59/100\n",
      "323/323 [==============================] - 4s 12ms/step - loss: 0.0469 - accuracy: 0.9843 - val_loss: 1.8488 - val_accuracy: 0.7374\n",
      "Epoch 60/100\n",
      "323/323 [==============================] - 4s 12ms/step - loss: 0.0748 - accuracy: 0.9757 - val_loss: 1.7070 - val_accuracy: 0.7778\n",
      "Epoch 61/100\n",
      "323/323 [==============================] - 4s 13ms/step - loss: 0.0871 - accuracy: 0.9740 - val_loss: 1.2125 - val_accuracy: 0.7475\n",
      "Epoch 62/100\n",
      "323/323 [==============================] - 4s 12ms/step - loss: 0.0682 - accuracy: 0.9806 - val_loss: 1.1574 - val_accuracy: 0.7980\n",
      "Epoch 63/100\n",
      "323/323 [==============================] - 4s 12ms/step - loss: 0.1170 - accuracy: 0.9593 - val_loss: 0.9755 - val_accuracy: 0.7980\n",
      "Epoch 64/100\n",
      "323/323 [==============================] - 4s 12ms/step - loss: 0.0139 - accuracy: 0.9975 - val_loss: 1.2848 - val_accuracy: 0.7879\n",
      "Epoch 65/100\n",
      "323/323 [==============================] - 4s 13ms/step - loss: 0.0547 - accuracy: 0.9823 - val_loss: 1.2921 - val_accuracy: 0.7778\n",
      "Epoch 66/100\n",
      "323/323 [==============================] - 4s 12ms/step - loss: 0.0434 - accuracy: 0.9849 - val_loss: 1.5952 - val_accuracy: 0.7980\n",
      "Epoch 67/100\n",
      "323/323 [==============================] - 4s 12ms/step - loss: 0.0030 - accuracy: 0.9994 - val_loss: 1.6492 - val_accuracy: 0.7778\n",
      "Epoch 68/100\n",
      "323/323 [==============================] - 4s 13ms/step - loss: 0.0026 - accuracy: 0.9986 - val_loss: 1.6964 - val_accuracy: 0.7980\n",
      "Epoch 69/100\n",
      "323/323 [==============================] - 4s 12ms/step - loss: 0.0020 - accuracy: 0.9994 - val_loss: 1.7074 - val_accuracy: 0.7980\n",
      "Epoch 70/100\n",
      "323/323 [==============================] - 4s 12ms/step - loss: 0.0023 - accuracy: 0.9984 - val_loss: 1.8171 - val_accuracy: 0.7879\n",
      "Epoch 71/100\n",
      "323/323 [==============================] - 4s 12ms/step - loss: 0.0022 - accuracy: 0.9986 - val_loss: 1.9935 - val_accuracy: 0.7879\n",
      "Epoch 72/100\n",
      "323/323 [==============================] - 4s 12ms/step - loss: 0.0022 - accuracy: 0.9986 - val_loss: 1.7600 - val_accuracy: 0.7980\n",
      "Epoch 73/100\n",
      "323/323 [==============================] - 4s 12ms/step - loss: 0.0021 - accuracy: 0.9988 - val_loss: 2.1433 - val_accuracy: 0.7980\n",
      "Epoch 74/100\n",
      "323/323 [==============================] - 4s 13ms/step - loss: 0.6279 - accuracy: 0.8137 - val_loss: 1.2006 - val_accuracy: 0.6465\n",
      "Epoch 75/100\n",
      "323/323 [==============================] - 4s 12ms/step - loss: 0.2771 - accuracy: 0.9092 - val_loss: 0.7619 - val_accuracy: 0.7980\n",
      "Epoch 76/100\n",
      "323/323 [==============================] - 4s 12ms/step - loss: 0.1070 - accuracy: 0.9680 - val_loss: 1.1851 - val_accuracy: 0.7576\n",
      "Epoch 77/100\n",
      "323/323 [==============================] - 4s 12ms/step - loss: 0.0294 - accuracy: 0.9917 - val_loss: 1.2689 - val_accuracy: 0.7980\n",
      "Epoch 78/100\n",
      "323/323 [==============================] - 4s 12ms/step - loss: 0.0968 - accuracy: 0.9682 - val_loss: 1.8842 - val_accuracy: 0.7677\n",
      "Epoch 79/100\n",
      "323/323 [==============================] - 4s 12ms/step - loss: 0.0399 - accuracy: 0.9878 - val_loss: 1.4871 - val_accuracy: 0.7980\n",
      "Epoch 80/100\n",
      "323/323 [==============================] - 4s 12ms/step - loss: 0.1325 - accuracy: 0.9593 - val_loss: 1.6922 - val_accuracy: 0.7475\n",
      "Epoch 81/100\n",
      "323/323 [==============================] - 4s 12ms/step - loss: 0.0172 - accuracy: 0.9942 - val_loss: 1.4095 - val_accuracy: 0.7677\n",
      "Epoch 82/100\n",
      "323/323 [==============================] - 4s 12ms/step - loss: 0.0745 - accuracy: 0.9783 - val_loss: 1.4963 - val_accuracy: 0.7980\n",
      "Epoch 83/100\n",
      "323/323 [==============================] - 4s 12ms/step - loss: 0.0120 - accuracy: 0.9959 - val_loss: 1.9515 - val_accuracy: 0.7475\n",
      "Epoch 84/100\n",
      "323/323 [==============================] - 4s 12ms/step - loss: 0.0704 - accuracy: 0.9773 - val_loss: 1.7334 - val_accuracy: 0.7778\n",
      "Epoch 85/100\n",
      "323/323 [==============================] - 4s 12ms/step - loss: 0.0137 - accuracy: 0.9969 - val_loss: 1.9255 - val_accuracy: 0.7374\n",
      "Epoch 86/100\n",
      "323/323 [==============================] - 4s 12ms/step - loss: 0.1010 - accuracy: 0.9670 - val_loss: 1.5976 - val_accuracy: 0.7677\n",
      "Epoch 87/100\n",
      "323/323 [==============================] - 4s 12ms/step - loss: 0.1482 - accuracy: 0.9552 - val_loss: 1.6356 - val_accuracy: 0.7576\n",
      "Epoch 88/100\n",
      "323/323 [==============================] - 4s 12ms/step - loss: 0.0123 - accuracy: 0.9969 - val_loss: 1.9190 - val_accuracy: 0.7879\n",
      "Epoch 89/100\n",
      "323/323 [==============================] - 4s 12ms/step - loss: 0.0027 - accuracy: 0.9994 - val_loss: 2.0069 - val_accuracy: 0.7778\n"
     ]
    }
   ],
   "source": [
    "history = model.fit(train_X, train_Y, epochs=100, callbacks=[checkpoint,earlyStopping],validation_data=(test_X,test_Y),batch_size=16)"
   ]
  },
  {
   "cell_type": "code",
   "execution_count": 33,
   "metadata": {},
   "outputs": [
    {
     "name": "stdout",
     "output_type": "stream",
     "text": [
      "WARNING:tensorflow:Layer lstm_30 will not use cuDNN kernels since it doesn't meet the criteria. It will use a generic GPU kernel as fallback when running on GPU.\n",
      "WARNING:tensorflow:Layer lstm_31 will not use cuDNN kernels since it doesn't meet the criteria. It will use a generic GPU kernel as fallback when running on GPU.\n",
      "WARNING:tensorflow:Layer lstm_32 will not use cuDNN kernels since it doesn't meet the criteria. It will use a generic GPU kernel as fallback when running on GPU.\n",
      "WARNING:tensorflow:Layer lstm_33 will not use cuDNN kernels since it doesn't meet the criteria. It will use a generic GPU kernel as fallback when running on GPU.\n",
      "WARNING:tensorflow:Layer lstm_34 will not use cuDNN kernels since it doesn't meet the criteria. It will use a generic GPU kernel as fallback when running on GPU.\n",
      "272/272 [==============================] - 7s 21ms/step - loss: 0.0862 - accuracy: 0.9713\n",
      "6/6 [==============================] - 0s 11ms/step - loss: 0.3943 - accuracy: 0.9263\n",
      "6/6 [==============================] - 0s 11ms/step - loss: 0.4650 - accuracy: 0.8690\n",
      "[0.0862136259675026, 0.9713364839553833] [0.39432308077812195, 0.9263157844543457] [0.46498429775238037, 0.8690476417541504]\n"
     ]
    }
   ],
   "source": [
    "m2 = third_model()\n",
    "m2.load_weights(os.path.join(best_model_file_name))\n",
    "print(\n",
    "    m2.evaluate(train_X,train_Y),\n",
    "    m2.evaluate(val_X,val_Y),\n",
    "    m2.evaluate(test_X,test_Y)\n",
    ")"
   ]
  },
  {
   "cell_type": "code",
   "execution_count": 11,
   "metadata": {
    "id": "vgVq9DG9C6Vy"
   },
   "outputs": [],
   "source": [
    "model.save_weights(os.path.join(best_model_file_name))"
   ]
  },
  {
   "cell_type": "code",
   "execution_count": 8,
   "metadata": {
    "id": "oT-QByCFDbR9"
   },
   "outputs": [],
   "source": [
    "model.load_weights(os.path.join(best_model_file_name))"
   ]
  },
  {
   "cell_type": "markdown",
   "metadata": {
    "id": "Yodm-nWHDhbN"
   },
   "source": [
    "# evaluation\n",
    "\n",
    "\n",
    "- write matplotlib code to display both of them\n",
    "- then write function to display history and evaluation just one time"
   ]
  },
  {
   "cell_type": "code",
   "execution_count": 19,
   "metadata": {
    "id": "QSBFiclZDhdj"
   },
   "outputs": [
    {
     "data": {
      "image/png": "[encoded data removed]",
      "text/plain": [
       "<Figure size 432x288 with 1 Axes>"
      ]
     },
     "metadata": {
      "needs_background": "light"
     },
     "output_type": "display_data"
    }
   ],
   "source": [
    "plt.plot(history.history['accuracy'])\n",
    "plt.plot(history.history['val_accuracy'])\n",
    "plt.title('model accuracy')\n",
    "plt.ylabel('accuracy')\n",
    "plt.xlabel('epoch')\n",
    "plt.legend(['train', 'test'], loc='upper left')\n",
    "plt.show()"
   ]
  },
  {
   "cell_type": "code",
   "execution_count": 20,
   "metadata": {
    "id": "Az839b8iDii1"
   },
   "outputs": [
    {
     "data": {
      "image/png": "[encoded data removed]",
      "text/plain": [
       "<Figure size 432x288 with 1 Axes>"
      ]
     },
     "metadata": {
      "needs_background": "light"
     },
     "output_type": "display_data"
    }
   ],
   "source": [
    "# summarize history for loss\n",
    "plt.plot(history.history['loss'])\n",
    "plt.plot(history.history['val_loss'])\n",
    "plt.title('model loss')\n",
    "plt.ylabel('loss')\n",
    "plt.xlabel('epoch')\n",
    "plt.legend(['train', 'test'], loc='upper left')\n",
    "plt.show()"
   ]
  },
  {
   "cell_type": "code",
   "execution_count": 11,
   "metadata": {
    "id": "gr-hOqYPDmAQ"
   },
   "outputs": [
    {
     "name": "stdout",
     "output_type": "stream",
     "text": [
      "272/272 [==============================] - 2s 7ms/step - loss: 0.0105 - accuracy: 0.9962\n",
      "6/6 [==============================] - 0s 7ms/step - loss: 0.4720 - accuracy: 0.9263\n",
      "6/6 [==============================] - 0s 7ms/step - loss: 0.6367 - accuracy: 0.9107\n",
      "[0.0105246901512146, 0.99620121717453] [0.4720112383365631, 0.9263157844543457] [0.6367243528366089, 0.9107142686843872]\n"
     ]
    }
   ],
   "source": [
    "print(\n",
    "    model.evaluate(train_X,train_Y),\n",
    "    model.evaluate(val_X,val_Y),\n",
    "    model.evaluate(test_X,test_Y)\n",
    ")"
   ]
  },
  {
   "cell_type": "code",
   "execution_count": 9,
   "metadata": {},
   "outputs": [
    {
     "name": "stdout",
     "output_type": "stream",
     "text": [
      "WARNING:tensorflow:Layer lstm_3 will not use cuDNN kernels since it doesn't meet the criteria. It will use a generic GPU kernel as fallback when running on GPU.\n",
      "WARNING:tensorflow:Layer lstm_4 will not use cuDNN kernels since it doesn't meet the criteria. It will use a generic GPU kernel as fallback when running on GPU.\n",
      "WARNING:tensorflow:Layer lstm_5 will not use cuDNN kernels since it doesn't meet the criteria. It will use a generic GPU kernel as fallback when running on GPU.\n"
     ]
    }
   ],
   "source": [
    "model = third_model()\n",
    "model.load_weights(os.path.join(\"final_train_weights\",\"third_model_V1.h5\"))"
   ]
  },
  {
   "cell_type": "code",
   "execution_count": 10,
   "metadata": {},
   "outputs": [
    {
     "name": "stdout",
     "output_type": "stream",
     "text": [
      "class : 0:sister --> [1.7010161876678467, 0.800000011920929]\n",
      "class : 1:hurry --> [0.0001951986487256363, 1.0]\n",
      "class : 2:hungry --> [0.00013828328519593924, 1.0]\n",
      "class : 3:meal --> [0.1749543994665146, 0.9473684430122375]\n",
      "class : 4:brother --> [0.7396684885025024, 0.8500000238418579]\n",
      "class : 5:tree --> [0.2636032998561859, 0.8999999761581421]\n",
      "class : 6:heavy --> [1.7032395601272583, 0.8461538553237915]\n",
      "class : 7:cry --> [0.13189388811588287, 0.949999988079071]\n",
      "class : 8:family --> [2.2531592549057677e-05, 1.0]\n",
      "class : 9:wise --> [0.39396458864212036, 0.9473684430122375]\n"
     ]
    }
   ],
   "source": [
    "for desired_class in range(10):\n",
    "    x = []\n",
    "    y = [] \n",
    "    for i,n in enumerate(val_Y):\n",
    "        if n==desired_class:\n",
    "            x.append(val_X[i])\n",
    "            y.append(n)\n",
    "\n",
    "    x = np.array(x)\n",
    "    y = np.array(y)\n",
    "    print(f\"class : {desired_class}:{actions[desired_class]} -->\",model.evaluate(x,y,verbose=0))\n",
    "        "
   ]
  },
  {
   "cell_type": "code",
   "execution_count": 23,
   "metadata": {},
   "outputs": [
    {
     "name": "stdout",
     "output_type": "stream",
     "text": [
      "WARNING:tensorflow:Layer lstm_25 will not use cuDNN kernels since it doesn't meet the criteria. It will use a generic GPU kernel as fallback when running on GPU.\n",
      "WARNING:tensorflow:Layer lstm_26 will not use cuDNN kernels since it doesn't meet the criteria. It will use a generic GPU kernel as fallback when running on GPU.\n",
      "WARNING:tensorflow:Layer lstm_27 will not use cuDNN kernels since it doesn't meet the criteria. It will use a generic GPU kernel as fallback when running on GPU.\n",
      "WARNING:tensorflow:Layer lstm_28 will not use cuDNN kernels since it doesn't meet the criteria. It will use a generic GPU kernel as fallback when running on GPU.\n",
      "WARNING:tensorflow:Layer lstm_29 will not use cuDNN kernels since it doesn't meet the criteria. It will use a generic GPU kernel as fallback when running on GPU.\n"
     ]
    }
   ],
   "source": [
    "model = first_model()\n",
    "model.load_weights(os.path.join(\"final_train_weights\",\"first_model_V1.h5\"))"
   ]
  },
  {
   "cell_type": "code",
   "execution_count": 24,
   "metadata": {},
   "outputs": [
    {
     "name": "stdout",
     "output_type": "stream",
     "text": [
      "class : 0:sister --> [2.1439902782440186, 0.699999988079071]\n",
      "class : 1:hurry --> [0.4425128996372223, 0.7894737124443054]\n",
      "class : 2:hungry --> [0.23317945003509521, 0.8999999761581421]\n",
      "class : 3:meal --> [0.05305203050374985, 0.9473684430122375]\n",
      "class : 4:brother --> [0.9514178037643433, 0.699999988079071]\n",
      "class : 5:tree --> [0.7925909757614136, 0.8500000238418579]\n",
      "class : 6:heavy --> [0.0105934152379632, 1.0]\n",
      "class : 7:cry --> [0.003288751933723688, 1.0]\n",
      "class : 8:family --> [3.0288221751106903e-05, 1.0]\n",
      "class : 9:wise --> [0.17635352909564972, 0.8947368264198303]\n"
     ]
    }
   ],
   "source": [
    "\n",
    "for desired_class in range(10):\n",
    "    x = []\n",
    "    y = [] \n",
    "    for i,n in enumerate(val_Y):\n",
    "        if n==desired_class:\n",
    "            x.append(val_X[i])\n",
    "            y.append(n)\n",
    "\n",
    "    x = np.array(x)\n",
    "    y = np.array(y)\n",
    "    print(f\"class : {desired_class}:{actions[desired_class]} -->\",model.evaluate(x,y,verbose=0))\n",
    "        "
   ]
  },
  {
   "cell_type": "code",
   "execution_count": 21,
   "metadata": {},
   "outputs": [
    {
     "name": "stdout",
     "output_type": "stream",
     "text": [
      "WARNING:tensorflow:Layer lstm_20 will not use cuDNN kernels since it doesn't meet the criteria. It will use a generic GPU kernel as fallback when running on GPU.\n",
      "WARNING:tensorflow:Layer lstm_21 will not use cuDNN kernels since it doesn't meet the criteria. It will use a generic GPU kernel as fallback when running on GPU.\n",
      "WARNING:tensorflow:Layer lstm_22 will not use cuDNN kernels since it doesn't meet the criteria. It will use a generic GPU kernel as fallback when running on GPU.\n",
      "WARNING:tensorflow:Layer lstm_23 will not use cuDNN kernels since it doesn't meet the criteria. It will use a generic GPU kernel as fallback when running on GPU.\n",
      "WARNING:tensorflow:Layer lstm_24 will not use cuDNN kernels since it doesn't meet the criteria. It will use a generic GPU kernel as fallback when running on GPU.\n"
     ]
    }
   ],
   "source": [
    "model = first_model()\n",
    "model.load_weights(os.path.join(\"final_train_weights\",\"first_model_V2.h5\"))"
   ]
  },
  {
   "cell_type": "code",
   "execution_count": 22,
   "metadata": {},
   "outputs": [
    {
     "name": "stdout",
     "output_type": "stream",
     "text": [
      "class : 0:sister --> [0.825576663017273, 0.8500000238418579]\n",
      "class : 1:hurry --> [0.01183120533823967, 1.0]\n",
      "class : 2:hungry --> [0.11262451112270355, 0.949999988079071]\n",
      "class : 3:meal --> [0.5067373514175415, 0.8947368264198303]\n",
      "class : 4:brother --> [1.662697434425354, 0.800000011920929]\n",
      "class : 5:tree --> [0.34248995780944824, 0.8999999761581421]\n",
      "class : 6:heavy --> [0.028256479650735855, 1.0]\n",
      "class : 7:cry --> [0.06529584527015686, 1.0]\n",
      "class : 8:family --> [0.0009215319296345115, 1.0]\n",
      "class : 9:wise --> [0.23732376098632812, 0.8947368264198303]\n"
     ]
    }
   ],
   "source": [
    "\n",
    "for desired_class in range(10):\n",
    "    x = []\n",
    "    y = [] \n",
    "    for i,n in enumerate(val_Y):\n",
    "        if n==desired_class:\n",
    "            x.append(val_X[i])\n",
    "            y.append(n)\n",
    "\n",
    "    x = np.array(x)\n",
    "    y = np.array(y)\n",
    "    print(f\"class : {desired_class}:{actions[desired_class]} -->\",model.evaluate(x,y,verbose=0))\n",
    "        "
   ]
  },
  {
   "cell_type": "code",
   "execution_count": null,
   "metadata": {},
   "outputs": [],
   "source": [
    "model = second_model()\n",
    "model.load_weights(os.path.join(\"final_train_weights\",\"second_model_V1.h5\"))"
   ]
  },
  {
   "cell_type": "code",
   "execution_count": 18,
   "metadata": {
    "id": "_JOV6H9iDhff"
   },
   "outputs": [
    {
     "name": "stdout",
     "output_type": "stream",
     "text": [
      "class : 0:sister --> [1.455183744430542, 0.75]\n",
      "class : 1:hurry --> [0.24843087792396545, 0.8421052694320679]\n",
      "class : 2:hungry --> [1.4502105712890625, 0.75]\n",
      "class : 3:meal --> [0.39883410930633545, 0.8947368264198303]\n",
      "class : 4:brother --> [0.8388317823410034, 0.800000011920929]\n",
      "class : 5:tree --> [1.0407341718673706, 0.800000011920929]\n",
      "class : 6:heavy --> [0.010108273476362228, 1.0]\n",
      "class : 7:cry --> [0.0016583595424890518, 1.0]\n",
      "class : 8:family --> [0.005287606734782457, 1.0]\n",
      "class : 9:wise --> [0.2445170283317566, 0.9473684430122375]\n"
     ]
    }
   ],
   "source": [
    "\n",
    "for desired_class in range(10):\n",
    "    x = []\n",
    "    y = [] \n",
    "    for i,n in enumerate(val_Y):\n",
    "        if n==desired_class:\n",
    "            x.append(val_X[i])\n",
    "            y.append(n)\n",
    "\n",
    "    x = np.array(x)\n",
    "    y = np.array(y)\n",
    "    print(f\"class : {desired_class}:{actions[desired_class]} -->\",model.evaluate(x,y,verbose=0))\n",
    "        "
   ]
  },
  {
   "cell_type": "code",
   "execution_count": null,
   "metadata": {},
   "outputs": [],
   "source": []
  }
 ],
 "metadata": {
  "colab": {
   "name": "LSTM with Mediapipe on 10 signs",
   "provenance": []
  },
  "kernelspec": {
   "display_name": "Python 3 (ipykernel)",
   "language": "python",
   "name": "python3"
  },
  "language_info": {
   "codemirror_mode": {
    "name": "ipython",
    "version": 3
   },
   "file_extension": ".py",
   "mimetype": "text/x-python",
   "name": "python",
   "nbconvert_exporter": "python",
   "pygments_lexer": "ipython3",
   "version": "3.8.10"
  }
 },
 "nbformat": 4,
 "nbformat_minor": 1
}
